{
  "nbformat": 4,
  "nbformat_minor": 0,
  "metadata": {
    "colab": {
      "name": "Cascade_Preprocessing.ipynb",
      "provenance": [],
      "collapsed_sections": [],
      "include_colab_link": true
    },
    "kernelspec": {
      "name": "python3",
      "display_name": "Python 3"
    }
  },
  "cells": [
    {
      "cell_type": "markdown",
      "metadata": {
        "id": "view-in-github",
        "colab_type": "text"
      },
      "source": [
        "<a href=\"https://colab.research.google.com/github/VivekSalunkhe14/Cascade/blob/main/Cascade_Preprocessing.ipynb\" target=\"_parent\"><img src=\"https://colab.research.google.com/assets/colab-badge.svg\" alt=\"Open In Colab\"/></a>"
      ]
    },
    {
      "cell_type": "code",
      "metadata": {
        "colab": {
          "base_uri": "https://localhost:8080/"
        },
        "id": "_J5Ankn5WdJQ",
        "outputId": "0998d153-6950-4be9-b059-d0711b2140d6"
      },
      "source": [
        "from google.colab import drive\n",
        "drive.mount('/content/drive')"
      ],
      "execution_count": null,
      "outputs": [
        {
          "output_type": "stream",
          "text": [
            "Mounted at /content/drive\n"
          ],
          "name": "stdout"
        }
      ]
    },
    {
      "cell_type": "markdown",
      "metadata": {
        "id": "S-Qy0xd655U1"
      },
      "source": [
        "# **Importing Libraries**"
      ]
    },
    {
      "cell_type": "code",
      "metadata": {
        "id": "0cX17_3TrwiA"
      },
      "source": [
        "import numpy as np\r\n",
        "import matplotlib.pyplot as plt\r\n",
        "import pandas as pd\r\n",
        "import calendar"
      ],
      "execution_count": null,
      "outputs": []
    },
    {
      "cell_type": "markdown",
      "metadata": {
        "id": "_nl1I70EsSZt"
      },
      "source": [
        "# **Dataset for Analysis of absenteeism in a company** \r\n"
      ]
    },
    {
      "cell_type": "markdown",
      "metadata": {
        "id": "dtXa1L9gRRik"
      },
      "source": [
        "The dataset was created with records of **Absenteeism at Work** from July 2007 to July 2010 at a courier company in Brazil.\r\n",
        "Attribute Information of the dataset is as follows:\r\n",
        "1. Individual identification (ID)\r\n",
        "2. Reason for absence (ICD)\r\n",
        "3. Month of absence\r\n",
        "4. Day of the week (Monday (2), Tuesday (3), Wednesday (4), Thursday (5), Friday (6))\r\n",
        "5. Seasons (summer (1), autumn (2), winter (3), spring (4))\r\n",
        "6. Transportation expense\r\n",
        "7. Distance from Residence to Work (kilometers)\r\n",
        "8. Service time\r\n",
        "9. Age\r\n",
        "10. Work load Average/day\r\n",
        "11. Hit target\r\n",
        "12. Disciplinary failure (yes=1; no=0)\r\n",
        "13. Education (high school (1), graduate (2), postgraduate (3), master and doctor (4))\r\n",
        "14. Son (number of children)\r\n",
        "15. Social drinker (yes=1; no=0)\r\n",
        "16. Social smoker (yes=1; no=0)\r\n",
        "17. Pet (number of pet)\r\n",
        "18. Weight\r\n",
        "19. Height\r\n",
        "20. Body mass index\r\n",
        "21. Absenteeism time in hours (target)"
      ]
    },
    {
      "cell_type": "code",
      "metadata": {
        "id": "eUg0WA9ur2f9"
      },
      "source": [
        "absent = pd.read_csv('/content/drive/MyDrive/Absenteeism_at_work.csv')"
      ],
      "execution_count": null,
      "outputs": []
    },
    {
      "cell_type": "code",
      "metadata": {
        "colab": {
          "base_uri": "https://localhost:8080/",
          "height": 266
        },
        "id": "08qlITx3uWgB",
        "outputId": "8e023b5a-4660-4db6-f256-d0247b2665a6"
      },
      "source": [
        "absent.head()"
      ],
      "execution_count": null,
      "outputs": [
        {
          "output_type": "execute_result",
          "data": {
            "text/html": [
              "<div>\n",
              "<style scoped>\n",
              "    .dataframe tbody tr th:only-of-type {\n",
              "        vertical-align: middle;\n",
              "    }\n",
              "\n",
              "    .dataframe tbody tr th {\n",
              "        vertical-align: top;\n",
              "    }\n",
              "\n",
              "    .dataframe thead th {\n",
              "        text-align: right;\n",
              "    }\n",
              "</style>\n",
              "<table border=\"1\" class=\"dataframe\">\n",
              "  <thead>\n",
              "    <tr style=\"text-align: right;\">\n",
              "      <th></th>\n",
              "      <th>ID</th>\n",
              "      <th>Reason for absence</th>\n",
              "      <th>Month of absence</th>\n",
              "      <th>Day of the week</th>\n",
              "      <th>Seasons</th>\n",
              "      <th>Transportation expense</th>\n",
              "      <th>Distance from Residence to Work</th>\n",
              "      <th>Service time</th>\n",
              "      <th>Age</th>\n",
              "      <th>Work load Average/day</th>\n",
              "      <th>Hit target</th>\n",
              "      <th>Disciplinary failure</th>\n",
              "      <th>Education</th>\n",
              "      <th>Son</th>\n",
              "      <th>Social drinker</th>\n",
              "      <th>Social smoker</th>\n",
              "      <th>Pet</th>\n",
              "      <th>Weight</th>\n",
              "      <th>Height</th>\n",
              "      <th>Body mass index</th>\n",
              "      <th>Absenteeism time in hours</th>\n",
              "    </tr>\n",
              "  </thead>\n",
              "  <tbody>\n",
              "    <tr>\n",
              "      <th>0</th>\n",
              "      <td>11</td>\n",
              "      <td>26</td>\n",
              "      <td>7</td>\n",
              "      <td>3</td>\n",
              "      <td>1</td>\n",
              "      <td>289</td>\n",
              "      <td>36</td>\n",
              "      <td>13</td>\n",
              "      <td>33</td>\n",
              "      <td>239.554</td>\n",
              "      <td>97</td>\n",
              "      <td>0</td>\n",
              "      <td>1</td>\n",
              "      <td>2</td>\n",
              "      <td>1</td>\n",
              "      <td>0</td>\n",
              "      <td>1</td>\n",
              "      <td>90</td>\n",
              "      <td>172</td>\n",
              "      <td>30</td>\n",
              "      <td>4</td>\n",
              "    </tr>\n",
              "    <tr>\n",
              "      <th>1</th>\n",
              "      <td>36</td>\n",
              "      <td>0</td>\n",
              "      <td>7</td>\n",
              "      <td>3</td>\n",
              "      <td>1</td>\n",
              "      <td>118</td>\n",
              "      <td>13</td>\n",
              "      <td>18</td>\n",
              "      <td>50</td>\n",
              "      <td>239.554</td>\n",
              "      <td>97</td>\n",
              "      <td>1</td>\n",
              "      <td>1</td>\n",
              "      <td>1</td>\n",
              "      <td>1</td>\n",
              "      <td>0</td>\n",
              "      <td>0</td>\n",
              "      <td>98</td>\n",
              "      <td>178</td>\n",
              "      <td>31</td>\n",
              "      <td>0</td>\n",
              "    </tr>\n",
              "    <tr>\n",
              "      <th>2</th>\n",
              "      <td>3</td>\n",
              "      <td>23</td>\n",
              "      <td>7</td>\n",
              "      <td>4</td>\n",
              "      <td>1</td>\n",
              "      <td>179</td>\n",
              "      <td>51</td>\n",
              "      <td>18</td>\n",
              "      <td>38</td>\n",
              "      <td>239.554</td>\n",
              "      <td>97</td>\n",
              "      <td>0</td>\n",
              "      <td>1</td>\n",
              "      <td>0</td>\n",
              "      <td>1</td>\n",
              "      <td>0</td>\n",
              "      <td>0</td>\n",
              "      <td>89</td>\n",
              "      <td>170</td>\n",
              "      <td>31</td>\n",
              "      <td>2</td>\n",
              "    </tr>\n",
              "    <tr>\n",
              "      <th>3</th>\n",
              "      <td>7</td>\n",
              "      <td>7</td>\n",
              "      <td>7</td>\n",
              "      <td>5</td>\n",
              "      <td>1</td>\n",
              "      <td>279</td>\n",
              "      <td>5</td>\n",
              "      <td>14</td>\n",
              "      <td>39</td>\n",
              "      <td>239.554</td>\n",
              "      <td>97</td>\n",
              "      <td>0</td>\n",
              "      <td>1</td>\n",
              "      <td>2</td>\n",
              "      <td>1</td>\n",
              "      <td>1</td>\n",
              "      <td>0</td>\n",
              "      <td>68</td>\n",
              "      <td>168</td>\n",
              "      <td>24</td>\n",
              "      <td>4</td>\n",
              "    </tr>\n",
              "    <tr>\n",
              "      <th>4</th>\n",
              "      <td>11</td>\n",
              "      <td>23</td>\n",
              "      <td>7</td>\n",
              "      <td>5</td>\n",
              "      <td>1</td>\n",
              "      <td>289</td>\n",
              "      <td>36</td>\n",
              "      <td>13</td>\n",
              "      <td>33</td>\n",
              "      <td>239.554</td>\n",
              "      <td>97</td>\n",
              "      <td>0</td>\n",
              "      <td>1</td>\n",
              "      <td>2</td>\n",
              "      <td>1</td>\n",
              "      <td>0</td>\n",
              "      <td>1</td>\n",
              "      <td>90</td>\n",
              "      <td>172</td>\n",
              "      <td>30</td>\n",
              "      <td>2</td>\n",
              "    </tr>\n",
              "  </tbody>\n",
              "</table>\n",
              "</div>"
            ],
            "text/plain": [
              "   ID  Reason for absence  ...  Body mass index  Absenteeism time in hours\n",
              "0  11                  26  ...               30                          4\n",
              "1  36                   0  ...               31                          0\n",
              "2   3                  23  ...               31                          2\n",
              "3   7                   7  ...               24                          4\n",
              "4  11                  23  ...               30                          2\n",
              "\n",
              "[5 rows x 21 columns]"
            ]
          },
          "metadata": {
            "tags": []
          },
          "execution_count": 106
        }
      ]
    },
    {
      "cell_type": "code",
      "metadata": {
        "colab": {
          "base_uri": "https://localhost:8080/"
        },
        "id": "rkAXWyA4sV9o",
        "outputId": "d2bd5f2d-12b9-459a-f1de-f0943c02e778"
      },
      "source": [
        "absent.shape"
      ],
      "execution_count": null,
      "outputs": [
        {
          "output_type": "execute_result",
          "data": {
            "text/plain": [
              "(740, 21)"
            ]
          },
          "metadata": {
            "tags": []
          },
          "execution_count": 107
        }
      ]
    },
    {
      "cell_type": "code",
      "metadata": {
        "colab": {
          "base_uri": "https://localhost:8080/"
        },
        "id": "eWQ6piSJsbVe",
        "outputId": "e484b806-7ba8-4127-e2d8-c03d491be5ba"
      },
      "source": [
        "absent.info()"
      ],
      "execution_count": null,
      "outputs": [
        {
          "output_type": "stream",
          "text": [
            "<class 'pandas.core.frame.DataFrame'>\n",
            "RangeIndex: 740 entries, 0 to 739\n",
            "Data columns (total 21 columns):\n",
            " #   Column                           Non-Null Count  Dtype  \n",
            "---  ------                           --------------  -----  \n",
            " 0   ID                               740 non-null    int64  \n",
            " 1   Reason for absence               740 non-null    int64  \n",
            " 2   Month of absence                 740 non-null    int64  \n",
            " 3   Day of the week                  740 non-null    int64  \n",
            " 4   Seasons                          740 non-null    int64  \n",
            " 5   Transportation expense           740 non-null    int64  \n",
            " 6   Distance from Residence to Work  740 non-null    int64  \n",
            " 7   Service time                     740 non-null    int64  \n",
            " 8   Age                              740 non-null    int64  \n",
            " 9   Work load Average/day            740 non-null    float64\n",
            " 10  Hit target                       740 non-null    int64  \n",
            " 11  Disciplinary failure             740 non-null    int64  \n",
            " 12  Education                        740 non-null    int64  \n",
            " 13  Son                              740 non-null    int64  \n",
            " 14  Social drinker                   740 non-null    int64  \n",
            " 15  Social smoker                    740 non-null    int64  \n",
            " 16  Pet                              740 non-null    int64  \n",
            " 17  Weight                           740 non-null    int64  \n",
            " 18  Height                           740 non-null    int64  \n",
            " 19  Body mass index                  740 non-null    int64  \n",
            " 20  Absenteeism time in hours        740 non-null    int64  \n",
            "dtypes: float64(1), int64(20)\n",
            "memory usage: 121.5 KB\n"
          ],
          "name": "stdout"
        }
      ]
    },
    {
      "cell_type": "markdown",
      "metadata": {
        "id": "i73jmzHFvdSl"
      },
      "source": [
        "The dimension of the dataset clearly indicates that our analysis will be focused on 21 features and 740 datapoints. We observed that the data type of all the features is integer which is incorrect as there are few columns with categorical data and their data type should be appropriately specified as category "
      ]
    },
    {
      "cell_type": "markdown",
      "metadata": {
        "id": "GI0sSX3cuPW-"
      },
      "source": [
        "#**Assigning appropriate data types to columns**"
      ]
    },
    {
      "cell_type": "code",
      "metadata": {
        "id": "_ksrucUrs5UO"
      },
      "source": [
        "absent['Reason for absence'] = absent['Reason for absence'].astype('category')\r\n",
        "absent['Month of absence'] = absent['Month of absence'].astype('category')\r\n",
        "absent['Day of the week'] = absent['Day of the week'].astype('category')\r\n",
        "absent['Seasons'] = absent['Seasons'].astype('category')\r\n",
        "absent['Education'] = absent['Education'].astype('category')\r\n",
        "absent['Disciplinary failure'] = absent['Disciplinary failure'].astype('category')\r\n",
        "absent['Social drinker'] = absent['Social drinker'].astype('category')  \r\n",
        "absent['Social smoker'] = absent['Social smoker'].astype('category') "
      ],
      "execution_count": null,
      "outputs": []
    },
    {
      "cell_type": "code",
      "metadata": {
        "colab": {
          "base_uri": "https://localhost:8080/"
        },
        "id": "r70d7HPftVje",
        "outputId": "109b767b-3f0f-4800-f3ae-4d4c91863c65"
      },
      "source": [
        "absent.info()"
      ],
      "execution_count": null,
      "outputs": [
        {
          "output_type": "stream",
          "text": [
            "<class 'pandas.core.frame.DataFrame'>\n",
            "RangeIndex: 740 entries, 0 to 739\n",
            "Data columns (total 21 columns):\n",
            " #   Column                           Non-Null Count  Dtype   \n",
            "---  ------                           --------------  -----   \n",
            " 0   ID                               740 non-null    int64   \n",
            " 1   Reason for absence               740 non-null    category\n",
            " 2   Month of absence                 740 non-null    category\n",
            " 3   Day of the week                  740 non-null    category\n",
            " 4   Seasons                          740 non-null    category\n",
            " 5   Transportation expense           740 non-null    int64   \n",
            " 6   Distance from Residence to Work  740 non-null    int64   \n",
            " 7   Service time                     740 non-null    int64   \n",
            " 8   Age                              740 non-null    int64   \n",
            " 9   Work load Average/day            740 non-null    float64 \n",
            " 10  Hit target                       740 non-null    int64   \n",
            " 11  Disciplinary failure             740 non-null    category\n",
            " 12  Education                        740 non-null    category\n",
            " 13  Son                              740 non-null    int64   \n",
            " 14  Social drinker                   740 non-null    category\n",
            " 15  Social smoker                    740 non-null    category\n",
            " 16  Pet                              740 non-null    int64   \n",
            " 17  Weight                           740 non-null    int64   \n",
            " 18  Height                           740 non-null    int64   \n",
            " 19  Body mass index                  740 non-null    int64   \n",
            " 20  Absenteeism time in hours        740 non-null    int64   \n",
            "dtypes: category(8), float64(1), int64(12)\n",
            "memory usage: 84.1 KB\n"
          ],
          "name": "stdout"
        }
      ]
    },
    {
      "cell_type": "markdown",
      "metadata": {
        "id": "p348Hy4YwYRJ"
      },
      "source": [
        "After assigning proper datatype to the categorical columns we can observe optimization in space as storage size dropped to 84.1 KB from 121.5 KB. Once the columns were of proper type it was mandatory to clean the data for our efficient use."
      ]
    },
    {
      "cell_type": "code",
      "metadata": {
        "id": "IEzfj5MDytLQ",
        "colab": {
          "base_uri": "https://localhost:8080/"
        },
        "outputId": "6b802f55-af88-4db0-9e6b-391078ca7732"
      },
      "source": [
        "absent.isnull().sum()"
      ],
      "execution_count": null,
      "outputs": [
        {
          "output_type": "execute_result",
          "data": {
            "text/plain": [
              "ID                                 0\n",
              "Reason for absence                 0\n",
              "Month of absence                   0\n",
              "Day of the week                    0\n",
              "Seasons                            0\n",
              "Transportation expense             0\n",
              "Distance from Residence to Work    0\n",
              "Service time                       0\n",
              "Age                                0\n",
              "Work load Average/day              0\n",
              "Hit target                         0\n",
              "Disciplinary failure               0\n",
              "Education                          0\n",
              "Son                                0\n",
              "Social drinker                     0\n",
              "Social smoker                      0\n",
              "Pet                                0\n",
              "Weight                             0\n",
              "Height                             0\n",
              "Body mass index                    0\n",
              "Absenteeism time in hours          0\n",
              "dtype: int64"
            ]
          },
          "metadata": {
            "tags": []
          },
          "execution_count": 111
        }
      ]
    },
    {
      "cell_type": "markdown",
      "metadata": {
        "id": "RYdgoxyy1Lxn"
      },
      "source": [
        "After verifying thst there were no NA values in the dataset our next step was verification of valid datapoints in the dataset"
      ]
    },
    {
      "cell_type": "markdown",
      "metadata": {
        "id": "s7ypyH91x11_"
      },
      "source": [
        "As mentioned in dataset description the feature named **Reason for absence** can take any value between 1 to 28, however 0 value for the Reason which can be a human error was replaced with 26 (as it stands for **Unjustified Abscence** in data description.)"
      ]
    },
    {
      "cell_type": "code",
      "metadata": {
        "colab": {
          "base_uri": "https://localhost:8080/"
        },
        "id": "Tnn2d2IR65wZ",
        "outputId": "1b486d5e-202e-4598-fd89-7a739da68697"
      },
      "source": [
        "len(absent[absent['Reason for absence']==0])"
      ],
      "execution_count": null,
      "outputs": [
        {
          "output_type": "execute_result",
          "data": {
            "text/plain": [
              "43"
            ]
          },
          "metadata": {
            "tags": []
          },
          "execution_count": 112
        }
      ]
    },
    {
      "cell_type": "code",
      "metadata": {
        "id": "zUuBhaBA2yZt"
      },
      "source": [
        "absent.loc[(absent['Reason for absence']==0),'Reason for absence']=26"
      ],
      "execution_count": null,
      "outputs": []
    },
    {
      "cell_type": "code",
      "metadata": {
        "colab": {
          "base_uri": "https://localhost:8080/"
        },
        "id": "W68ttH8t7IL0",
        "outputId": "1797f117-0f15-49f6-f89c-4d26bf3662ff"
      },
      "source": [
        "len(absent[absent['Reason for absence']==0])"
      ],
      "execution_count": null,
      "outputs": [
        {
          "output_type": "execute_result",
          "data": {
            "text/plain": [
              "0"
            ]
          },
          "metadata": {
            "tags": []
          },
          "execution_count": 114
        }
      ]
    },
    {
      "cell_type": "markdown",
      "metadata": {
        "id": "BETmJEPG10v-"
      },
      "source": [
        "#**Mapping value of character features to its pre-defined categories.**\r\n",
        "Since our dataset had all the columns as numeric it was necessary to create few character features from the categorical columns for easy interpretation of the data.\r\n",
        "With the help of data description the categorical features namely **Reason for absence**, **Month of absence**, **Day of the week**, **Season**, **Education**, **Disciplinary failure**, **Social drinker**, **Social smoker** were mapped to its understandable character features or columns."
      ]
    },
    {
      "cell_type": "markdown",
      "metadata": {
        "id": "VIEHYd6t4GEi"
      },
      "source": [
        "Features obtained after this preprocessing will be very benefical during Exploratory Data Analysis."
      ]
    },
    {
      "cell_type": "code",
      "metadata": {
        "id": "CxfzZCRO7Jnz"
      },
      "source": [
        "reason_dict = {\r\n",
        "    1: 'Certain infectious and parasitic diseases',\r\n",
        "    2: 'Neoplasms',\r\n",
        "    3: 'Diseases of the blood and blood-forming organs and certain disorders involving the immune mechanism',\r\n",
        "    4: 'Endocrine, nutritional and metabolic diseases',\r\n",
        "    5: 'Mental and behavioural disorders',\r\n",
        "    6: 'Diseases of the nervous system',\r\n",
        "    7: 'Diseases of the eye and adnexa',\r\n",
        "    8: 'Diseases of the ear and mastoid process',\r\n",
        "    9: 'Diseases of the circulatory system',\r\n",
        "    10: 'Diseases of the respiratory system',\r\n",
        "    11: 'Diseases of the digestive system',\r\n",
        "    12: 'Diseases of the skin and subcutaneous tissue',\r\n",
        "    13: 'Diseases of the musculoskeletal system and connective tissue',\r\n",
        "    14: 'Diseases of the genitourinary system',\r\n",
        "    15: 'Pregnancy, childbirth and the puerperium',\r\n",
        "    16: 'Certain conditions originating in the perinatal period',\r\n",
        "    17: 'Congenital malformations, deformations and chromosomal abnormalities',\r\n",
        "    18: 'Symptoms, signs and abnormal clinical and laboratory findings, not elsewhere classified',\r\n",
        "    19: 'Injury, poisoning and certain other consequences of external causes',\r\n",
        "    20: 'External causes of morbidity and mortality',\r\n",
        "    21: 'Factors influencing health status and contact with health services',\r\n",
        "    22: 'Patient follow-up',\r\n",
        "    23: 'Medical consultation',\r\n",
        "    24: 'Blood donation',\r\n",
        "    25: 'Laboratory examination',\r\n",
        "    26: 'Unjustified absence',\r\n",
        "    27: 'Physiotherapy',\r\n",
        "    28: 'Dental consultation'\r\n",
        "}\r\n",
        "absent['Reason_Justified'] = absent['Reason for absence'].map(reason_dict).astype('category')"
      ],
      "execution_count": null,
      "outputs": []
    },
    {
      "cell_type": "code",
      "metadata": {
        "id": "P6uiQXj-8U4L"
      },
      "source": [
        "absent['Month_Name'] =  absent['Month of absence'].apply(lambda x: calendar.month_abbr[x]).astype('category')"
      ],
      "execution_count": null,
      "outputs": []
    },
    {
      "cell_type": "code",
      "metadata": {
        "id": "pKc5EHx58jVt"
      },
      "source": [
        "day_dict = {\r\n",
        "    2: 'Monday',\r\n",
        "    3: 'Tuesday',\r\n",
        "    4: 'Wednesday',\r\n",
        "    5: 'Thursday',\r\n",
        "    6: 'Friday',\r\n",
        "}\r\n",
        "absent['Day_Name'] = absent['Day of the week'].map(day_dict).astype('category')"
      ],
      "execution_count": null,
      "outputs": []
    },
    {
      "cell_type": "code",
      "metadata": {
        "id": "q8DrBDo59BJB"
      },
      "source": [
        "season_dict = {\r\n",
        "    1:'Summer', \r\n",
        "    2:'Autumn', \r\n",
        "    3:'Winter',\r\n",
        "    4:'Spring'\r\n",
        "}\r\n",
        "absent['Season_Name'] = absent.Seasons.map(season_dict).astype('category')"
      ],
      "execution_count": null,
      "outputs": []
    },
    {
      "cell_type": "code",
      "metadata": {
        "id": "NdnCxHHX9hll"
      },
      "source": [
        "education_dict = {\r\n",
        "    1: 'High School',\r\n",
        "    2: 'Graduate',\r\n",
        "    3: 'Post Graduate',\r\n",
        "    4: 'Master & Doctor'\r\n",
        "}\r\n",
        "absent['Education_Details'] = absent['Education'].map(education_dict).astype('category')"
      ],
      "execution_count": null,
      "outputs": []
    },
    {
      "cell_type": "code",
      "metadata": {
        "id": "vrPuZUJT_vyO"
      },
      "source": [
        "discipline_dict = {\r\n",
        "    0: 'Disciplined',\r\n",
        "    1: 'Indisciplined',\r\n",
        "}\r\n",
        "absent['Disciplinary_Status'] = absent['Disciplinary failure'].map(discipline_dict).astype('category')"
      ],
      "execution_count": null,
      "outputs": []
    },
    {
      "cell_type": "code",
      "metadata": {
        "id": "4XxHQXtmAwyC"
      },
      "source": [
        "drinker_dict = {\r\n",
        "    0: 'Nondrinker',\r\n",
        "    1: 'Drinker',\r\n",
        "}\r\n",
        "absent['Drinking_Status'] = absent['Social drinker'].map(drinker_dict).astype('category')"
      ],
      "execution_count": null,
      "outputs": []
    },
    {
      "cell_type": "code",
      "metadata": {
        "id": "lLCFlWZnAw-Y"
      },
      "source": [
        "smoker_dict = {\r\n",
        "    0: 'Nonsmoker',\r\n",
        "    1: 'Smoker',\r\n",
        "}\r\n",
        "absent['Smoking_Status'] = absent['Social smoker'].map(smoker_dict).astype('category')"
      ],
      "execution_count": null,
      "outputs": []
    },
    {
      "cell_type": "code",
      "metadata": {
        "colab": {
          "base_uri": "https://localhost:8080/"
        },
        "id": "TxrG5T16_29d",
        "outputId": "f0721f78-bd00-4843-e505-5ed1b14317b0"
      },
      "source": [
        "absent.info()"
      ],
      "execution_count": null,
      "outputs": [
        {
          "output_type": "stream",
          "text": [
            "<class 'pandas.core.frame.DataFrame'>\n",
            "RangeIndex: 740 entries, 0 to 739\n",
            "Data columns (total 29 columns):\n",
            " #   Column                           Non-Null Count  Dtype   \n",
            "---  ------                           --------------  -----   \n",
            " 0   ID                               740 non-null    int64   \n",
            " 1   Reason for absence               740 non-null    category\n",
            " 2   Month of absence                 740 non-null    category\n",
            " 3   Day of the week                  740 non-null    category\n",
            " 4   Seasons                          740 non-null    category\n",
            " 5   Transportation expense           740 non-null    int64   \n",
            " 6   Distance from Residence to Work  740 non-null    int64   \n",
            " 7   Service time                     740 non-null    int64   \n",
            " 8   Age                              740 non-null    int64   \n",
            " 9   Work load Average/day            740 non-null    float64 \n",
            " 10  Hit target                       740 non-null    int64   \n",
            " 11  Disciplinary failure             740 non-null    category\n",
            " 12  Education                        740 non-null    category\n",
            " 13  Son                              740 non-null    int64   \n",
            " 14  Social drinker                   740 non-null    category\n",
            " 15  Social smoker                    740 non-null    category\n",
            " 16  Pet                              740 non-null    int64   \n",
            " 17  Weight                           740 non-null    int64   \n",
            " 18  Height                           740 non-null    int64   \n",
            " 19  Body mass index                  740 non-null    int64   \n",
            " 20  Absenteeism time in hours        740 non-null    int64   \n",
            " 21  Reason_Justified                 740 non-null    category\n",
            " 22  Month_Name                       740 non-null    category\n",
            " 23  Day_Name                         740 non-null    category\n",
            " 24  Season_Name                      740 non-null    category\n",
            " 25  Education_Details                740 non-null    category\n",
            " 26  Disciplinary_Status              740 non-null    category\n",
            " 27  Drinking_Status                  740 non-null    category\n",
            " 28  Smoking_Status                   740 non-null    category\n",
            "dtypes: category(16), float64(1), int64(12)\n",
            "memory usage: 92.9 KB\n"
          ],
          "name": "stdout"
        }
      ]
    },
    {
      "cell_type": "markdown",
      "metadata": {
        "id": "v9a_y7gL9212"
      },
      "source": [
        "# **Inconsistency in Month column**"
      ]
    },
    {
      "cell_type": "markdown",
      "metadata": {
        "id": "tRg5fCLk4zyC"
      },
      "source": [
        "Feature **Month of absence** can take any value between 1 to 12 as it suggests month number for a particular year but 0 value clearly dictates error in datapoints which need to be dropped."
      ]
    },
    {
      "cell_type": "code",
      "metadata": {
        "colab": {
          "base_uri": "https://localhost:8080/",
          "height": 206
        },
        "id": "DwOR2pfouiNI",
        "outputId": "8e26aeb5-512a-47e0-c1b9-eefb00bad25c"
      },
      "source": [
        "absent[absent['Month of absence'] == 0]"
      ],
      "execution_count": null,
      "outputs": [
        {
          "output_type": "execute_result",
          "data": {
            "text/html": [
              "<div>\n",
              "<style scoped>\n",
              "    .dataframe tbody tr th:only-of-type {\n",
              "        vertical-align: middle;\n",
              "    }\n",
              "\n",
              "    .dataframe tbody tr th {\n",
              "        vertical-align: top;\n",
              "    }\n",
              "\n",
              "    .dataframe thead th {\n",
              "        text-align: right;\n",
              "    }\n",
              "</style>\n",
              "<table border=\"1\" class=\"dataframe\">\n",
              "  <thead>\n",
              "    <tr style=\"text-align: right;\">\n",
              "      <th></th>\n",
              "      <th>ID</th>\n",
              "      <th>Reason for absence</th>\n",
              "      <th>Month of absence</th>\n",
              "      <th>Day of the week</th>\n",
              "      <th>Seasons</th>\n",
              "      <th>Transportation expense</th>\n",
              "      <th>Distance from Residence to Work</th>\n",
              "      <th>Service time</th>\n",
              "      <th>Age</th>\n",
              "      <th>Work load Average/day</th>\n",
              "      <th>Hit target</th>\n",
              "      <th>Disciplinary failure</th>\n",
              "      <th>Education</th>\n",
              "      <th>Son</th>\n",
              "      <th>Social drinker</th>\n",
              "      <th>Social smoker</th>\n",
              "      <th>Pet</th>\n",
              "      <th>Weight</th>\n",
              "      <th>Height</th>\n",
              "      <th>Body mass index</th>\n",
              "      <th>Absenteeism time in hours</th>\n",
              "      <th>Reason_Justified</th>\n",
              "      <th>Month_Name</th>\n",
              "      <th>Day_Name</th>\n",
              "      <th>Season_Name</th>\n",
              "      <th>Education_Details</th>\n",
              "      <th>Disciplinary_Status</th>\n",
              "      <th>Drinking_Status</th>\n",
              "      <th>Smoking_Status</th>\n",
              "    </tr>\n",
              "  </thead>\n",
              "  <tbody>\n",
              "    <tr>\n",
              "      <th>737</th>\n",
              "      <td>4</td>\n",
              "      <td>26</td>\n",
              "      <td>0</td>\n",
              "      <td>3</td>\n",
              "      <td>1</td>\n",
              "      <td>118</td>\n",
              "      <td>14</td>\n",
              "      <td>13</td>\n",
              "      <td>40</td>\n",
              "      <td>271.219</td>\n",
              "      <td>95</td>\n",
              "      <td>0</td>\n",
              "      <td>1</td>\n",
              "      <td>1</td>\n",
              "      <td>1</td>\n",
              "      <td>0</td>\n",
              "      <td>8</td>\n",
              "      <td>98</td>\n",
              "      <td>170</td>\n",
              "      <td>34</td>\n",
              "      <td>0</td>\n",
              "      <td>Unjustified absence</td>\n",
              "      <td></td>\n",
              "      <td>Tuesday</td>\n",
              "      <td>Summer</td>\n",
              "      <td>High School</td>\n",
              "      <td>Disciplined</td>\n",
              "      <td>Drinker</td>\n",
              "      <td>Nonsmoker</td>\n",
              "    </tr>\n",
              "    <tr>\n",
              "      <th>738</th>\n",
              "      <td>8</td>\n",
              "      <td>26</td>\n",
              "      <td>0</td>\n",
              "      <td>4</td>\n",
              "      <td>2</td>\n",
              "      <td>231</td>\n",
              "      <td>35</td>\n",
              "      <td>14</td>\n",
              "      <td>39</td>\n",
              "      <td>271.219</td>\n",
              "      <td>95</td>\n",
              "      <td>0</td>\n",
              "      <td>1</td>\n",
              "      <td>2</td>\n",
              "      <td>1</td>\n",
              "      <td>0</td>\n",
              "      <td>2</td>\n",
              "      <td>100</td>\n",
              "      <td>170</td>\n",
              "      <td>35</td>\n",
              "      <td>0</td>\n",
              "      <td>Unjustified absence</td>\n",
              "      <td></td>\n",
              "      <td>Wednesday</td>\n",
              "      <td>Autumn</td>\n",
              "      <td>High School</td>\n",
              "      <td>Disciplined</td>\n",
              "      <td>Drinker</td>\n",
              "      <td>Nonsmoker</td>\n",
              "    </tr>\n",
              "    <tr>\n",
              "      <th>739</th>\n",
              "      <td>35</td>\n",
              "      <td>26</td>\n",
              "      <td>0</td>\n",
              "      <td>6</td>\n",
              "      <td>3</td>\n",
              "      <td>179</td>\n",
              "      <td>45</td>\n",
              "      <td>14</td>\n",
              "      <td>53</td>\n",
              "      <td>271.219</td>\n",
              "      <td>95</td>\n",
              "      <td>0</td>\n",
              "      <td>1</td>\n",
              "      <td>1</td>\n",
              "      <td>0</td>\n",
              "      <td>0</td>\n",
              "      <td>1</td>\n",
              "      <td>77</td>\n",
              "      <td>175</td>\n",
              "      <td>25</td>\n",
              "      <td>0</td>\n",
              "      <td>Unjustified absence</td>\n",
              "      <td></td>\n",
              "      <td>Friday</td>\n",
              "      <td>Winter</td>\n",
              "      <td>High School</td>\n",
              "      <td>Disciplined</td>\n",
              "      <td>Nondrinker</td>\n",
              "      <td>Nonsmoker</td>\n",
              "    </tr>\n",
              "  </tbody>\n",
              "</table>\n",
              "</div>"
            ],
            "text/plain": [
              "     ID Reason for absence  ... Drinking_Status Smoking_Status\n",
              "737   4                 26  ...         Drinker      Nonsmoker\n",
              "738   8                 26  ...         Drinker      Nonsmoker\n",
              "739  35                 26  ...      Nondrinker      Nonsmoker\n",
              "\n",
              "[3 rows x 29 columns]"
            ]
          },
          "metadata": {
            "tags": []
          },
          "execution_count": 124
        }
      ]
    },
    {
      "cell_type": "code",
      "metadata": {
        "id": "ILF1Ujv9tXym"
      },
      "source": [
        "absent = absent[absent['Month of absence'] != 0]"
      ],
      "execution_count": null,
      "outputs": []
    },
    {
      "cell_type": "code",
      "metadata": {
        "colab": {
          "base_uri": "https://localhost:8080/"
        },
        "id": "i7gjON1UuJOD",
        "outputId": "d30b460b-9aa2-465d-98f1-7b52ba87a261"
      },
      "source": [
        "absent.shape"
      ],
      "execution_count": null,
      "outputs": [
        {
          "output_type": "execute_result",
          "data": {
            "text/plain": [
              "(737, 29)"
            ]
          },
          "metadata": {
            "tags": []
          },
          "execution_count": 126
        }
      ]
    },
    {
      "cell_type": "markdown",
      "metadata": {
        "id": "ei2DbnFDbZZw"
      },
      "source": [
        "# **Inconsistency in ID column**"
      ]
    },
    {
      "cell_type": "markdown",
      "metadata": {
        "id": "pdfLB0Da-YBa"
      },
      "source": [
        "Initially we observed that there were 34 Unique ID's in the dataset\r\n"
      ]
    },
    {
      "cell_type": "code",
      "metadata": {
        "colab": {
          "base_uri": "https://localhost:8080/"
        },
        "id": "DdG_ko1QY1K2",
        "outputId": "4c9caac4-f691-4ffa-d2c5-2705f9d5795e"
      },
      "source": [
        "len(absent['ID'].unique())"
      ],
      "execution_count": null,
      "outputs": [
        {
          "output_type": "execute_result",
          "data": {
            "text/plain": [
              "34"
            ]
          },
          "metadata": {
            "tags": []
          },
          "execution_count": 127
        }
      ]
    },
    {
      "cell_type": "markdown",
      "metadata": {
        "id": "zPJAi19G_SnZ"
      },
      "source": [
        "However after grouping the datasets based on some essential features we observed that there was discrepancy in count of ID's and one of the idea was duplicated"
      ]
    },
    {
      "cell_type": "code",
      "metadata": {
        "colab": {
          "base_uri": "https://localhost:8080/"
        },
        "id": "NLZ39Vj2ZDcD",
        "outputId": "edeb598e-0fed-4ddc-9138-82740070a68c"
      },
      "source": [
        "sum(absent.groupby(['Smoking_Status','Drinking_Status','Age','Body mass index'])['ID'].nunique())"
      ],
      "execution_count": null,
      "outputs": [
        {
          "output_type": "execute_result",
          "data": {
            "text/plain": [
              "35"
            ]
          },
          "metadata": {
            "tags": []
          },
          "execution_count": 128
        }
      ]
    },
    {
      "cell_type": "markdown",
      "metadata": {
        "id": "kb9yfLci_uCo"
      },
      "source": [
        "Dataframe with all the 34 Unique ID's in dataset"
      ]
    },
    {
      "cell_type": "code",
      "metadata": {
        "id": "QjBpcleIc8Mv"
      },
      "source": [
        "df1 = pd.DataFrame({'ID': absent['ID'].unique()})"
      ],
      "execution_count": null,
      "outputs": []
    },
    {
      "cell_type": "markdown",
      "metadata": {
        "id": "k4J30rx1_y6M"
      },
      "source": [
        "In order to identify the extra duplicated ID record we grouped the dataset by ID and counted the unique values of Age. Once this was done we extracted the recorded containing count of ID greater than 1. We observed that there was an ID 29 present with count of 2 which clearly indicates that one of the record with ID 29 is incorrect since all the similar ID will have same Age as they indicate the same individual ."
      ]
    },
    {
      "cell_type": "code",
      "metadata": {
        "colab": {
          "base_uri": "https://localhost:8080/",
          "height": 77
        },
        "id": "vXcHD-LtqJoA",
        "outputId": "82effe27-3eee-4b29-edfa-34e5edb7fe31"
      },
      "source": [
        "df3 = absent.groupby('ID')['Age'].nunique().reset_index(name='Count of ID')\r\n",
        "df3[df3['Count of ID']>1]"
      ],
      "execution_count": null,
      "outputs": [
        {
          "output_type": "execute_result",
          "data": {
            "text/html": [
              "<div>\n",
              "<style scoped>\n",
              "    .dataframe tbody tr th:only-of-type {\n",
              "        vertical-align: middle;\n",
              "    }\n",
              "\n",
              "    .dataframe tbody tr th {\n",
              "        vertical-align: top;\n",
              "    }\n",
              "\n",
              "    .dataframe thead th {\n",
              "        text-align: right;\n",
              "    }\n",
              "</style>\n",
              "<table border=\"1\" class=\"dataframe\">\n",
              "  <thead>\n",
              "    <tr style=\"text-align: right;\">\n",
              "      <th></th>\n",
              "      <th>ID</th>\n",
              "      <th>Count of ID</th>\n",
              "    </tr>\n",
              "  </thead>\n",
              "  <tbody>\n",
              "    <tr>\n",
              "      <th>27</th>\n",
              "      <td>29</td>\n",
              "      <td>2</td>\n",
              "    </tr>\n",
              "  </tbody>\n",
              "</table>\n",
              "</div>"
            ],
            "text/plain": [
              "    ID  Count of ID\n",
              "27  29            2"
            ]
          },
          "metadata": {
            "tags": []
          },
          "execution_count": 133
        }
      ]
    },
    {
      "cell_type": "code",
      "metadata": {
        "colab": {
          "base_uri": "https://localhost:8080/",
          "height": 195
        },
        "id": "VYFCzaS_c4MZ",
        "outputId": "be5abb2a-100b-4c6b-b163-9dbf4a3437d1"
      },
      "source": [
        "absent.loc[absent['ID']==29,['ID','Age','Weight','Height','Drinking_Status','Smoking_Status']]"
      ],
      "execution_count": null,
      "outputs": [
        {
          "output_type": "execute_result",
          "data": {
            "text/html": [
              "<div>\n",
              "<style scoped>\n",
              "    .dataframe tbody tr th:only-of-type {\n",
              "        vertical-align: middle;\n",
              "    }\n",
              "\n",
              "    .dataframe tbody tr th {\n",
              "        vertical-align: top;\n",
              "    }\n",
              "\n",
              "    .dataframe thead th {\n",
              "        text-align: right;\n",
              "    }\n",
              "</style>\n",
              "<table border=\"1\" class=\"dataframe\">\n",
              "  <thead>\n",
              "    <tr style=\"text-align: right;\">\n",
              "      <th></th>\n",
              "      <th>ID</th>\n",
              "      <th>Age</th>\n",
              "      <th>Weight</th>\n",
              "      <th>Height</th>\n",
              "      <th>Drinking_Status</th>\n",
              "      <th>Smoking_Status</th>\n",
              "    </tr>\n",
              "  </thead>\n",
              "  <tbody>\n",
              "    <tr>\n",
              "      <th>51</th>\n",
              "      <td>29</td>\n",
              "      <td>28</td>\n",
              "      <td>69</td>\n",
              "      <td>169</td>\n",
              "      <td>Nondrinker</td>\n",
              "      <td>Nonsmoker</td>\n",
              "    </tr>\n",
              "    <tr>\n",
              "      <th>592</th>\n",
              "      <td>29</td>\n",
              "      <td>41</td>\n",
              "      <td>94</td>\n",
              "      <td>182</td>\n",
              "      <td>Drinker</td>\n",
              "      <td>Nonsmoker</td>\n",
              "    </tr>\n",
              "    <tr>\n",
              "      <th>675</th>\n",
              "      <td>29</td>\n",
              "      <td>41</td>\n",
              "      <td>94</td>\n",
              "      <td>182</td>\n",
              "      <td>Drinker</td>\n",
              "      <td>Nonsmoker</td>\n",
              "    </tr>\n",
              "    <tr>\n",
              "      <th>681</th>\n",
              "      <td>29</td>\n",
              "      <td>41</td>\n",
              "      <td>94</td>\n",
              "      <td>182</td>\n",
              "      <td>Drinker</td>\n",
              "      <td>Nonsmoker</td>\n",
              "    </tr>\n",
              "    <tr>\n",
              "      <th>683</th>\n",
              "      <td>29</td>\n",
              "      <td>41</td>\n",
              "      <td>94</td>\n",
              "      <td>182</td>\n",
              "      <td>Drinker</td>\n",
              "      <td>Nonsmoker</td>\n",
              "    </tr>\n",
              "  </tbody>\n",
              "</table>\n",
              "</div>"
            ],
            "text/plain": [
              "     ID  Age  Weight  Height Drinking_Status Smoking_Status\n",
              "51   29   28      69     169      Nondrinker      Nonsmoker\n",
              "592  29   41      94     182         Drinker      Nonsmoker\n",
              "675  29   41      94     182         Drinker      Nonsmoker\n",
              "681  29   41      94     182         Drinker      Nonsmoker\n",
              "683  29   41      94     182         Drinker      Nonsmoker"
            ]
          },
          "metadata": {
            "tags": []
          },
          "execution_count": 101
        }
      ]
    },
    {
      "cell_type": "markdown",
      "metadata": {
        "id": "enfzdQzBBLGC"
      },
      "source": [
        "After extracting the data of 29th ID we found out that there was one record with Age 28 which seems incorrect as all the other datapoints were having Age 41 for 29th ID. We then drop that particular inconsistent record from our dataset"
      ]
    },
    {
      "cell_type": "code",
      "metadata": {
        "colab": {
          "base_uri": "https://localhost:8080/"
        },
        "id": "i7nd2Uo1ClhK",
        "outputId": "ddf6640a-7b40-4c31-9272-f4d8961e998b"
      },
      "source": [
        "absent = absent.drop(51)\r\n",
        "absent.shape"
      ],
      "execution_count": null,
      "outputs": [
        {
          "output_type": "execute_result",
          "data": {
            "text/plain": [
              "(736, 29)"
            ]
          },
          "metadata": {
            "tags": []
          },
          "execution_count": 145
        }
      ]
    },
    {
      "cell_type": "code",
      "metadata": {
        "colab": {
          "base_uri": "https://localhost:8080/",
          "height": 166
        },
        "id": "1Am2akjrGRIt",
        "outputId": "f205f2f1-c484-4e15-c451-2c5c0c2ed262"
      },
      "source": [
        "absent.loc[absent['ID']==29,['ID','Age','Weight','Height','Drinking_Status','Smoking_Status']]"
      ],
      "execution_count": null,
      "outputs": [
        {
          "output_type": "execute_result",
          "data": {
            "text/html": [
              "<div>\n",
              "<style scoped>\n",
              "    .dataframe tbody tr th:only-of-type {\n",
              "        vertical-align: middle;\n",
              "    }\n",
              "\n",
              "    .dataframe tbody tr th {\n",
              "        vertical-align: top;\n",
              "    }\n",
              "\n",
              "    .dataframe thead th {\n",
              "        text-align: right;\n",
              "    }\n",
              "</style>\n",
              "<table border=\"1\" class=\"dataframe\">\n",
              "  <thead>\n",
              "    <tr style=\"text-align: right;\">\n",
              "      <th></th>\n",
              "      <th>ID</th>\n",
              "      <th>Age</th>\n",
              "      <th>Weight</th>\n",
              "      <th>Height</th>\n",
              "      <th>Drinking_Status</th>\n",
              "      <th>Smoking_Status</th>\n",
              "    </tr>\n",
              "  </thead>\n",
              "  <tbody>\n",
              "    <tr>\n",
              "      <th>592</th>\n",
              "      <td>29</td>\n",
              "      <td>41</td>\n",
              "      <td>94</td>\n",
              "      <td>182</td>\n",
              "      <td>Drinker</td>\n",
              "      <td>Nonsmoker</td>\n",
              "    </tr>\n",
              "    <tr>\n",
              "      <th>675</th>\n",
              "      <td>29</td>\n",
              "      <td>41</td>\n",
              "      <td>94</td>\n",
              "      <td>182</td>\n",
              "      <td>Drinker</td>\n",
              "      <td>Nonsmoker</td>\n",
              "    </tr>\n",
              "    <tr>\n",
              "      <th>681</th>\n",
              "      <td>29</td>\n",
              "      <td>41</td>\n",
              "      <td>94</td>\n",
              "      <td>182</td>\n",
              "      <td>Drinker</td>\n",
              "      <td>Nonsmoker</td>\n",
              "    </tr>\n",
              "    <tr>\n",
              "      <th>683</th>\n",
              "      <td>29</td>\n",
              "      <td>41</td>\n",
              "      <td>94</td>\n",
              "      <td>182</td>\n",
              "      <td>Drinker</td>\n",
              "      <td>Nonsmoker</td>\n",
              "    </tr>\n",
              "  </tbody>\n",
              "</table>\n",
              "</div>"
            ],
            "text/plain": [
              "     ID  Age  Weight  Height Drinking_Status Smoking_Status\n",
              "592  29   41      94     182         Drinker      Nonsmoker\n",
              "675  29   41      94     182         Drinker      Nonsmoker\n",
              "681  29   41      94     182         Drinker      Nonsmoker\n",
              "683  29   41      94     182         Drinker      Nonsmoker"
            ]
          },
          "metadata": {
            "tags": []
          },
          "execution_count": 146
        }
      ]
    },
    {
      "cell_type": "markdown",
      "metadata": {
        "id": "yxQP9UqYGoxZ"
      },
      "source": [
        "# **Inconsistency in Absenteeism time in hours column**"
      ]
    },
    {
      "cell_type": "markdown",
      "metadata": {
        "id": "Ayic-3A63qKm"
      },
      "source": [
        "Dataset aims to provide information for absenteeism but, 0 value in \"Absenteeism time in hours\" indicates discrepancy in data and we need to be specify certain value for such records as per constraints to remove contradiction."
      ]
    },
    {
      "cell_type": "code",
      "metadata": {
        "colab": {
          "base_uri": "https://localhost:8080/"
        },
        "id": "qNVEAFtxuKmn",
        "outputId": "35773bf1-0fe8-4a09-fb9c-9632d2c56250"
      },
      "source": [
        "len(absent[absent['Absenteeism time in hours'] == 0])"
      ],
      "execution_count": null,
      "outputs": [
        {
          "output_type": "execute_result",
          "data": {
            "text/plain": [
              "40"
            ]
          },
          "metadata": {
            "tags": []
          },
          "execution_count": 150
        }
      ]
    },
    {
      "cell_type": "code",
      "metadata": {
        "colab": {
          "base_uri": "https://localhost:8080/"
        },
        "id": "2FJstLUeu5wO",
        "outputId": "0b860299-d9b4-46c9-a987-94cb33c6795f"
      },
      "source": [
        "len(absent[absent['Disciplinary_Status'] == 'Indisciplined'])"
      ],
      "execution_count": null,
      "outputs": [
        {
          "output_type": "execute_result",
          "data": {
            "text/plain": [
              "39"
            ]
          },
          "metadata": {
            "tags": []
          },
          "execution_count": 151
        }
      ]
    },
    {
      "cell_type": "markdown",
      "metadata": {
        "id": "UCHAoyBe6cp2"
      },
      "source": [
        "There exist 40 rows for 0 absenteeism time but only 39 rows for Indisciplinary status. One row must be valid which states that ID is disciplined and having valid reason. Let us identify that particular valid row."
      ]
    },
    {
      "cell_type": "code",
      "metadata": {
        "colab": {
          "base_uri": "https://localhost:8080/",
          "height": 147
        },
        "id": "vNKcH7rSxnae",
        "outputId": "a12d2200-53e6-4127-e17a-056610292abf"
      },
      "source": [
        "absent[(absent['Absenteeism time in hours']==0) & (absent['Disciplinary_Status']!='Indisciplined')]"
      ],
      "execution_count": null,
      "outputs": [
        {
          "output_type": "execute_result",
          "data": {
            "text/html": [
              "<div>\n",
              "<style scoped>\n",
              "    .dataframe tbody tr th:only-of-type {\n",
              "        vertical-align: middle;\n",
              "    }\n",
              "\n",
              "    .dataframe tbody tr th {\n",
              "        vertical-align: top;\n",
              "    }\n",
              "\n",
              "    .dataframe thead th {\n",
              "        text-align: right;\n",
              "    }\n",
              "</style>\n",
              "<table border=\"1\" class=\"dataframe\">\n",
              "  <thead>\n",
              "    <tr style=\"text-align: right;\">\n",
              "      <th></th>\n",
              "      <th>ID</th>\n",
              "      <th>Reason for absence</th>\n",
              "      <th>Month of absence</th>\n",
              "      <th>Day of the week</th>\n",
              "      <th>Seasons</th>\n",
              "      <th>Transportation expense</th>\n",
              "      <th>Distance from Residence to Work</th>\n",
              "      <th>Service time</th>\n",
              "      <th>Age</th>\n",
              "      <th>Work load Average/day</th>\n",
              "      <th>Hit target</th>\n",
              "      <th>Disciplinary failure</th>\n",
              "      <th>Education</th>\n",
              "      <th>Son</th>\n",
              "      <th>Social drinker</th>\n",
              "      <th>Social smoker</th>\n",
              "      <th>Pet</th>\n",
              "      <th>Weight</th>\n",
              "      <th>Height</th>\n",
              "      <th>Body mass index</th>\n",
              "      <th>Absenteeism time in hours</th>\n",
              "      <th>Reason_Justified</th>\n",
              "      <th>Month_Name</th>\n",
              "      <th>Day_Name</th>\n",
              "      <th>Season_Name</th>\n",
              "      <th>Education_Details</th>\n",
              "      <th>Disciplinary_Status</th>\n",
              "      <th>Drinking_Status</th>\n",
              "      <th>Smoking_Status</th>\n",
              "    </tr>\n",
              "  </thead>\n",
              "  <tbody>\n",
              "    <tr>\n",
              "      <th>134</th>\n",
              "      <td>34</td>\n",
              "      <td>27</td>\n",
              "      <td>1</td>\n",
              "      <td>2</td>\n",
              "      <td>2</td>\n",
              "      <td>118</td>\n",
              "      <td>10</td>\n",
              "      <td>10</td>\n",
              "      <td>37</td>\n",
              "      <td>308.593</td>\n",
              "      <td>95</td>\n",
              "      <td>0</td>\n",
              "      <td>1</td>\n",
              "      <td>0</td>\n",
              "      <td>0</td>\n",
              "      <td>0</td>\n",
              "      <td>0</td>\n",
              "      <td>83</td>\n",
              "      <td>172</td>\n",
              "      <td>28</td>\n",
              "      <td>0</td>\n",
              "      <td>Physiotherapy</td>\n",
              "      <td>Jan</td>\n",
              "      <td>Monday</td>\n",
              "      <td>Autumn</td>\n",
              "      <td>High School</td>\n",
              "      <td>Disciplined</td>\n",
              "      <td>Nondrinker</td>\n",
              "      <td>Nonsmoker</td>\n",
              "    </tr>\n",
              "  </tbody>\n",
              "</table>\n",
              "</div>"
            ],
            "text/plain": [
              "     ID Reason for absence  ... Drinking_Status Smoking_Status\n",
              "134  34                 27  ...      Nondrinker      Nonsmoker\n",
              "\n",
              "[1 rows x 29 columns]"
            ]
          },
          "metadata": {
            "tags": []
          },
          "execution_count": 153
        }
      ]
    },
    {
      "cell_type": "markdown",
      "metadata": {
        "id": "K_a9xwhm64zA"
      },
      "source": [
        "For this particular one datapoint the Absenteeism time was replaced with average value of absent time for the reason stated by  that corresponding ID i.e. due to Physiotherapy."
      ]
    },
    {
      "cell_type": "code",
      "metadata": {
        "colab": {
          "base_uri": "https://localhost:8080/"
        },
        "id": "cT0nuyjnvxyN",
        "outputId": "bdd8a7f0-8986-45b3-bccf-344bb9607a55"
      },
      "source": [
        "absent[absent['Reason for absence']==27][['Absenteeism time in hours']].mean()"
      ],
      "execution_count": null,
      "outputs": [
        {
          "output_type": "execute_result",
          "data": {
            "text/plain": [
              "Absenteeism time in hours    2.275362\n",
              "dtype: float64"
            ]
          },
          "metadata": {
            "tags": []
          },
          "execution_count": 154
        }
      ]
    },
    {
      "cell_type": "code",
      "metadata": {
        "id": "XhHJZqzKwxtS"
      },
      "source": [
        "absent.loc[(absent['Reason for absence']==27) & (absent['Absenteeism time in hours']==0),'Absenteeism time in hours']=2"
      ],
      "execution_count": null,
      "outputs": []
    },
    {
      "cell_type": "code",
      "metadata": {
        "colab": {
          "base_uri": "https://localhost:8080/"
        },
        "id": "2F1AEc5Ux5_g",
        "outputId": "c0c62cbc-2c05-4990-be7b-ba10f1cd2901"
      },
      "source": [
        "len(absent[(absent['Absenteeism time in hours']==0) & (absent['Disciplinary_Status']!='Indisciplined')])"
      ],
      "execution_count": null,
      "outputs": [
        {
          "output_type": "execute_result",
          "data": {
            "text/plain": [
              "0"
            ]
          },
          "metadata": {
            "tags": []
          },
          "execution_count": 156
        }
      ]
    },
    {
      "cell_type": "markdown",
      "metadata": {
        "id": "FFONBEwM7bDg"
      },
      "source": [
        "After replacing that particular ID we are left with 39 datapoints whose absenteeism time was left as 0"
      ]
    },
    {
      "cell_type": "code",
      "metadata": {
        "id": "GvT_apoYE6qm",
        "colab": {
          "base_uri": "https://localhost:8080/"
        },
        "outputId": "a7ec80fa-da2a-4e1d-d77a-0dcf7ac4992b"
      },
      "source": [
        "len(absent[absent['Absenteeism time in hours']==0])"
      ],
      "execution_count": null,
      "outputs": [
        {
          "output_type": "execute_result",
          "data": {
            "text/plain": [
              "39"
            ]
          },
          "metadata": {
            "tags": []
          },
          "execution_count": 157
        }
      ]
    },
    {
      "cell_type": "markdown",
      "metadata": {
        "id": "J4_U87FS7skt"
      },
      "source": [
        "It is assumed that absenteeism time for those 39 data points will be mode value of all Disciplined data absenteeism time. So, 8 hours is assigned for proper EDA analysis."
      ]
    },
    {
      "cell_type": "code",
      "metadata": {
        "colab": {
          "base_uri": "https://localhost:8080/",
          "height": 77
        },
        "id": "dbEl0ryhy5Nc",
        "outputId": "4a25995b-3cd1-4490-b53e-ba29813d0bc2"
      },
      "source": [
        "(absent[absent['Disciplinary_Status']=='Disciplined'][['Absenteeism time in hours']]).mode()"
      ],
      "execution_count": null,
      "outputs": [
        {
          "output_type": "execute_result",
          "data": {
            "text/html": [
              "<div>\n",
              "<style scoped>\n",
              "    .dataframe tbody tr th:only-of-type {\n",
              "        vertical-align: middle;\n",
              "    }\n",
              "\n",
              "    .dataframe tbody tr th {\n",
              "        vertical-align: top;\n",
              "    }\n",
              "\n",
              "    .dataframe thead th {\n",
              "        text-align: right;\n",
              "    }\n",
              "</style>\n",
              "<table border=\"1\" class=\"dataframe\">\n",
              "  <thead>\n",
              "    <tr style=\"text-align: right;\">\n",
              "      <th></th>\n",
              "      <th>Absenteeism time in hours</th>\n",
              "    </tr>\n",
              "  </thead>\n",
              "  <tbody>\n",
              "    <tr>\n",
              "      <th>0</th>\n",
              "      <td>8</td>\n",
              "    </tr>\n",
              "  </tbody>\n",
              "</table>\n",
              "</div>"
            ],
            "text/plain": [
              "   Absenteeism time in hours\n",
              "0                          8"
            ]
          },
          "metadata": {
            "tags": []
          },
          "execution_count": 159
        }
      ]
    },
    {
      "cell_type": "code",
      "metadata": {
        "id": "BMPw82NpztVw"
      },
      "source": [
        "absent.loc[(absent['Absenteeism time in hours']==0),'Absenteeism time in hours']=8"
      ],
      "execution_count": null,
      "outputs": []
    },
    {
      "cell_type": "code",
      "metadata": {
        "colab": {
          "base_uri": "https://localhost:8080/"
        },
        "id": "PA2caGRp04Q9",
        "outputId": "7e236a22-5111-4a18-c407-b36b08b30c33"
      },
      "source": [
        "len(absent[absent['Absenteeism time in hours']==0])"
      ],
      "execution_count": null,
      "outputs": [
        {
          "output_type": "execute_result",
          "data": {
            "text/plain": [
              "0"
            ]
          },
          "metadata": {
            "tags": []
          },
          "execution_count": 161
        }
      ]
    },
    {
      "cell_type": "markdown",
      "metadata": {
        "id": "8xrcJb51Iu8R"
      },
      "source": [
        "After removing all inconsistency we are left with 0 records with absenteeism time having 0 value which indicates dataset now contains valid data"
      ]
    },
    {
      "cell_type": "markdown",
      "metadata": {
        "id": "JGuDKJQ19WAn"
      },
      "source": [
        "# **Extracting useful information by using calculation of features.**"
      ]
    },
    {
      "cell_type": "markdown",
      "metadata": {
        "id": "2QcRj7hL9mMF"
      },
      "source": [
        "Travel distance and travel cost used to vary in large range which will be difficult to compare and conclude useful information so Travel Expense per kilometer (R$/km) will help to compare expense by any ID per km to industry."
      ]
    },
    {
      "cell_type": "code",
      "metadata": {
        "id": "2YrAnwXn-IJE"
      },
      "source": [
        "absent['Travel Expense per km'] = round((absent['Transportation expense']/absent['Distance from Residence to Work']),2)"
      ],
      "execution_count": null,
      "outputs": []
    },
    {
      "cell_type": "code",
      "metadata": {
        "colab": {
          "base_uri": "https://localhost:8080/",
          "height": 316
        },
        "id": "p3bLud5bGLLD",
        "outputId": "0f0c8ba4-1852-4601-f271-dc4b8df05280"
      },
      "source": [
        "absent.head()"
      ],
      "execution_count": null,
      "outputs": [
        {
          "output_type": "execute_result",
          "data": {
            "text/html": [
              "<div>\n",
              "<style scoped>\n",
              "    .dataframe tbody tr th:only-of-type {\n",
              "        vertical-align: middle;\n",
              "    }\n",
              "\n",
              "    .dataframe tbody tr th {\n",
              "        vertical-align: top;\n",
              "    }\n",
              "\n",
              "    .dataframe thead th {\n",
              "        text-align: right;\n",
              "    }\n",
              "</style>\n",
              "<table border=\"1\" class=\"dataframe\">\n",
              "  <thead>\n",
              "    <tr style=\"text-align: right;\">\n",
              "      <th></th>\n",
              "      <th>ID</th>\n",
              "      <th>Reason for absence</th>\n",
              "      <th>Month of absence</th>\n",
              "      <th>Day of the week</th>\n",
              "      <th>Seasons</th>\n",
              "      <th>Transportation expense</th>\n",
              "      <th>Distance from Residence to Work</th>\n",
              "      <th>Service time</th>\n",
              "      <th>Age</th>\n",
              "      <th>Work load Average/day</th>\n",
              "      <th>Hit target</th>\n",
              "      <th>Disciplinary failure</th>\n",
              "      <th>Education</th>\n",
              "      <th>Son</th>\n",
              "      <th>Social drinker</th>\n",
              "      <th>Social smoker</th>\n",
              "      <th>Pet</th>\n",
              "      <th>Weight</th>\n",
              "      <th>Height</th>\n",
              "      <th>Body mass index</th>\n",
              "      <th>Absenteeism time in hours</th>\n",
              "      <th>Reason_Justified</th>\n",
              "      <th>Month_Name</th>\n",
              "      <th>Day_Name</th>\n",
              "      <th>Season_Name</th>\n",
              "      <th>Education_Details</th>\n",
              "      <th>Disciplinary_Status</th>\n",
              "      <th>Drinking_Status</th>\n",
              "      <th>Smoking_Status</th>\n",
              "      <th>Travel Expense per km</th>\n",
              "    </tr>\n",
              "  </thead>\n",
              "  <tbody>\n",
              "    <tr>\n",
              "      <th>0</th>\n",
              "      <td>11</td>\n",
              "      <td>26</td>\n",
              "      <td>7</td>\n",
              "      <td>3</td>\n",
              "      <td>1</td>\n",
              "      <td>289</td>\n",
              "      <td>36</td>\n",
              "      <td>13</td>\n",
              "      <td>33</td>\n",
              "      <td>239.554</td>\n",
              "      <td>97</td>\n",
              "      <td>0</td>\n",
              "      <td>1</td>\n",
              "      <td>2</td>\n",
              "      <td>1</td>\n",
              "      <td>0</td>\n",
              "      <td>1</td>\n",
              "      <td>90</td>\n",
              "      <td>172</td>\n",
              "      <td>30</td>\n",
              "      <td>4</td>\n",
              "      <td>Unjustified absence</td>\n",
              "      <td>Jul</td>\n",
              "      <td>Tuesday</td>\n",
              "      <td>Summer</td>\n",
              "      <td>High School</td>\n",
              "      <td>Disciplined</td>\n",
              "      <td>Drinker</td>\n",
              "      <td>Nonsmoker</td>\n",
              "      <td>8.03</td>\n",
              "    </tr>\n",
              "    <tr>\n",
              "      <th>1</th>\n",
              "      <td>36</td>\n",
              "      <td>26</td>\n",
              "      <td>7</td>\n",
              "      <td>3</td>\n",
              "      <td>1</td>\n",
              "      <td>118</td>\n",
              "      <td>13</td>\n",
              "      <td>18</td>\n",
              "      <td>50</td>\n",
              "      <td>239.554</td>\n",
              "      <td>97</td>\n",
              "      <td>1</td>\n",
              "      <td>1</td>\n",
              "      <td>1</td>\n",
              "      <td>1</td>\n",
              "      <td>0</td>\n",
              "      <td>0</td>\n",
              "      <td>98</td>\n",
              "      <td>178</td>\n",
              "      <td>31</td>\n",
              "      <td>8</td>\n",
              "      <td>Unjustified absence</td>\n",
              "      <td>Jul</td>\n",
              "      <td>Tuesday</td>\n",
              "      <td>Summer</td>\n",
              "      <td>High School</td>\n",
              "      <td>Indisciplined</td>\n",
              "      <td>Drinker</td>\n",
              "      <td>Nonsmoker</td>\n",
              "      <td>9.08</td>\n",
              "    </tr>\n",
              "    <tr>\n",
              "      <th>2</th>\n",
              "      <td>3</td>\n",
              "      <td>23</td>\n",
              "      <td>7</td>\n",
              "      <td>4</td>\n",
              "      <td>1</td>\n",
              "      <td>179</td>\n",
              "      <td>51</td>\n",
              "      <td>18</td>\n",
              "      <td>38</td>\n",
              "      <td>239.554</td>\n",
              "      <td>97</td>\n",
              "      <td>0</td>\n",
              "      <td>1</td>\n",
              "      <td>0</td>\n",
              "      <td>1</td>\n",
              "      <td>0</td>\n",
              "      <td>0</td>\n",
              "      <td>89</td>\n",
              "      <td>170</td>\n",
              "      <td>31</td>\n",
              "      <td>2</td>\n",
              "      <td>Medical consultation</td>\n",
              "      <td>Jul</td>\n",
              "      <td>Wednesday</td>\n",
              "      <td>Summer</td>\n",
              "      <td>High School</td>\n",
              "      <td>Disciplined</td>\n",
              "      <td>Drinker</td>\n",
              "      <td>Nonsmoker</td>\n",
              "      <td>3.51</td>\n",
              "    </tr>\n",
              "    <tr>\n",
              "      <th>3</th>\n",
              "      <td>7</td>\n",
              "      <td>7</td>\n",
              "      <td>7</td>\n",
              "      <td>5</td>\n",
              "      <td>1</td>\n",
              "      <td>279</td>\n",
              "      <td>5</td>\n",
              "      <td>14</td>\n",
              "      <td>39</td>\n",
              "      <td>239.554</td>\n",
              "      <td>97</td>\n",
              "      <td>0</td>\n",
              "      <td>1</td>\n",
              "      <td>2</td>\n",
              "      <td>1</td>\n",
              "      <td>1</td>\n",
              "      <td>0</td>\n",
              "      <td>68</td>\n",
              "      <td>168</td>\n",
              "      <td>24</td>\n",
              "      <td>4</td>\n",
              "      <td>Diseases of the eye and adnexa</td>\n",
              "      <td>Jul</td>\n",
              "      <td>Thursday</td>\n",
              "      <td>Summer</td>\n",
              "      <td>High School</td>\n",
              "      <td>Disciplined</td>\n",
              "      <td>Drinker</td>\n",
              "      <td>Smoker</td>\n",
              "      <td>55.80</td>\n",
              "    </tr>\n",
              "    <tr>\n",
              "      <th>4</th>\n",
              "      <td>11</td>\n",
              "      <td>23</td>\n",
              "      <td>7</td>\n",
              "      <td>5</td>\n",
              "      <td>1</td>\n",
              "      <td>289</td>\n",
              "      <td>36</td>\n",
              "      <td>13</td>\n",
              "      <td>33</td>\n",
              "      <td>239.554</td>\n",
              "      <td>97</td>\n",
              "      <td>0</td>\n",
              "      <td>1</td>\n",
              "      <td>2</td>\n",
              "      <td>1</td>\n",
              "      <td>0</td>\n",
              "      <td>1</td>\n",
              "      <td>90</td>\n",
              "      <td>172</td>\n",
              "      <td>30</td>\n",
              "      <td>2</td>\n",
              "      <td>Medical consultation</td>\n",
              "      <td>Jul</td>\n",
              "      <td>Thursday</td>\n",
              "      <td>Summer</td>\n",
              "      <td>High School</td>\n",
              "      <td>Disciplined</td>\n",
              "      <td>Drinker</td>\n",
              "      <td>Nonsmoker</td>\n",
              "      <td>8.03</td>\n",
              "    </tr>\n",
              "  </tbody>\n",
              "</table>\n",
              "</div>"
            ],
            "text/plain": [
              "   ID Reason for absence  ... Smoking_Status Travel Expense per km\n",
              "0  11                 26  ...      Nonsmoker                  8.03\n",
              "1  36                 26  ...      Nonsmoker                  9.08\n",
              "2   3                 23  ...      Nonsmoker                  3.51\n",
              "3   7                  7  ...         Smoker                 55.80\n",
              "4  11                 23  ...      Nonsmoker                  8.03\n",
              "\n",
              "[5 rows x 30 columns]"
            ]
          },
          "metadata": {
            "tags": []
          },
          "execution_count": 163
        }
      ]
    },
    {
      "cell_type": "markdown",
      "metadata": {
        "id": "hXez1GqrJhrd"
      },
      "source": [
        "Creating categorical column **Travel cost category** for specifying which travel group the individual belongs."
      ]
    },
    {
      "cell_type": "code",
      "metadata": {
        "id": "GP4Fra4VS78A"
      },
      "source": [
        "absent.loc[absent['Travel Expense per km']<7, 'Travel Cost Category'] = 'Cheap'\r\n",
        "absent.loc[absent['Travel Expense per km']>15, 'Travel Cost Category'] = 'Expensive'\r\n",
        "absent.loc[(absent['Travel Expense per km']>=7) & (absent['Travel Expense per km']<=15), 'Travel Cost Category'] = 'Affordable'"
      ],
      "execution_count": null,
      "outputs": []
    },
    {
      "cell_type": "code",
      "metadata": {
        "colab": {
          "base_uri": "https://localhost:8080/",
          "height": 316
        },
        "id": "nj8h4CQoVxOS",
        "outputId": "e02032c2-67cb-4b18-9df7-f360ba2e4dfa"
      },
      "source": [
        "absent.head()"
      ],
      "execution_count": null,
      "outputs": [
        {
          "output_type": "execute_result",
          "data": {
            "text/html": [
              "<div>\n",
              "<style scoped>\n",
              "    .dataframe tbody tr th:only-of-type {\n",
              "        vertical-align: middle;\n",
              "    }\n",
              "\n",
              "    .dataframe tbody tr th {\n",
              "        vertical-align: top;\n",
              "    }\n",
              "\n",
              "    .dataframe thead th {\n",
              "        text-align: right;\n",
              "    }\n",
              "</style>\n",
              "<table border=\"1\" class=\"dataframe\">\n",
              "  <thead>\n",
              "    <tr style=\"text-align: right;\">\n",
              "      <th></th>\n",
              "      <th>ID</th>\n",
              "      <th>Reason for absence</th>\n",
              "      <th>Month of absence</th>\n",
              "      <th>Day of the week</th>\n",
              "      <th>Seasons</th>\n",
              "      <th>Transportation expense</th>\n",
              "      <th>Distance from Residence to Work</th>\n",
              "      <th>Service time</th>\n",
              "      <th>Age</th>\n",
              "      <th>Work load Average/day</th>\n",
              "      <th>Hit target</th>\n",
              "      <th>Disciplinary failure</th>\n",
              "      <th>Education</th>\n",
              "      <th>Son</th>\n",
              "      <th>Social drinker</th>\n",
              "      <th>Social smoker</th>\n",
              "      <th>Pet</th>\n",
              "      <th>Weight</th>\n",
              "      <th>Height</th>\n",
              "      <th>Body mass index</th>\n",
              "      <th>Absenteeism time in hours</th>\n",
              "      <th>Reason_Justified</th>\n",
              "      <th>Month_Name</th>\n",
              "      <th>Day_Name</th>\n",
              "      <th>Season_Name</th>\n",
              "      <th>Education_Details</th>\n",
              "      <th>Disciplinary_Status</th>\n",
              "      <th>Drinking_Status</th>\n",
              "      <th>Smoking_Status</th>\n",
              "      <th>Travel Expense per km</th>\n",
              "      <th>Travel Cost Category</th>\n",
              "    </tr>\n",
              "  </thead>\n",
              "  <tbody>\n",
              "    <tr>\n",
              "      <th>0</th>\n",
              "      <td>11</td>\n",
              "      <td>26</td>\n",
              "      <td>7</td>\n",
              "      <td>3</td>\n",
              "      <td>1</td>\n",
              "      <td>289</td>\n",
              "      <td>36</td>\n",
              "      <td>13</td>\n",
              "      <td>33</td>\n",
              "      <td>239.554</td>\n",
              "      <td>97</td>\n",
              "      <td>0</td>\n",
              "      <td>1</td>\n",
              "      <td>2</td>\n",
              "      <td>1</td>\n",
              "      <td>0</td>\n",
              "      <td>1</td>\n",
              "      <td>90</td>\n",
              "      <td>172</td>\n",
              "      <td>30</td>\n",
              "      <td>4</td>\n",
              "      <td>Unjustified absence</td>\n",
              "      <td>Jul</td>\n",
              "      <td>Tuesday</td>\n",
              "      <td>Summer</td>\n",
              "      <td>High School</td>\n",
              "      <td>Disciplined</td>\n",
              "      <td>Drinker</td>\n",
              "      <td>Nonsmoker</td>\n",
              "      <td>8.03</td>\n",
              "      <td>Affordable</td>\n",
              "    </tr>\n",
              "    <tr>\n",
              "      <th>1</th>\n",
              "      <td>36</td>\n",
              "      <td>26</td>\n",
              "      <td>7</td>\n",
              "      <td>3</td>\n",
              "      <td>1</td>\n",
              "      <td>118</td>\n",
              "      <td>13</td>\n",
              "      <td>18</td>\n",
              "      <td>50</td>\n",
              "      <td>239.554</td>\n",
              "      <td>97</td>\n",
              "      <td>1</td>\n",
              "      <td>1</td>\n",
              "      <td>1</td>\n",
              "      <td>1</td>\n",
              "      <td>0</td>\n",
              "      <td>0</td>\n",
              "      <td>98</td>\n",
              "      <td>178</td>\n",
              "      <td>31</td>\n",
              "      <td>8</td>\n",
              "      <td>Unjustified absence</td>\n",
              "      <td>Jul</td>\n",
              "      <td>Tuesday</td>\n",
              "      <td>Summer</td>\n",
              "      <td>High School</td>\n",
              "      <td>Indisciplined</td>\n",
              "      <td>Drinker</td>\n",
              "      <td>Nonsmoker</td>\n",
              "      <td>9.08</td>\n",
              "      <td>Affordable</td>\n",
              "    </tr>\n",
              "    <tr>\n",
              "      <th>2</th>\n",
              "      <td>3</td>\n",
              "      <td>23</td>\n",
              "      <td>7</td>\n",
              "      <td>4</td>\n",
              "      <td>1</td>\n",
              "      <td>179</td>\n",
              "      <td>51</td>\n",
              "      <td>18</td>\n",
              "      <td>38</td>\n",
              "      <td>239.554</td>\n",
              "      <td>97</td>\n",
              "      <td>0</td>\n",
              "      <td>1</td>\n",
              "      <td>0</td>\n",
              "      <td>1</td>\n",
              "      <td>0</td>\n",
              "      <td>0</td>\n",
              "      <td>89</td>\n",
              "      <td>170</td>\n",
              "      <td>31</td>\n",
              "      <td>2</td>\n",
              "      <td>Medical consultation</td>\n",
              "      <td>Jul</td>\n",
              "      <td>Wednesday</td>\n",
              "      <td>Summer</td>\n",
              "      <td>High School</td>\n",
              "      <td>Disciplined</td>\n",
              "      <td>Drinker</td>\n",
              "      <td>Nonsmoker</td>\n",
              "      <td>3.51</td>\n",
              "      <td>Cheap</td>\n",
              "    </tr>\n",
              "    <tr>\n",
              "      <th>3</th>\n",
              "      <td>7</td>\n",
              "      <td>7</td>\n",
              "      <td>7</td>\n",
              "      <td>5</td>\n",
              "      <td>1</td>\n",
              "      <td>279</td>\n",
              "      <td>5</td>\n",
              "      <td>14</td>\n",
              "      <td>39</td>\n",
              "      <td>239.554</td>\n",
              "      <td>97</td>\n",
              "      <td>0</td>\n",
              "      <td>1</td>\n",
              "      <td>2</td>\n",
              "      <td>1</td>\n",
              "      <td>1</td>\n",
              "      <td>0</td>\n",
              "      <td>68</td>\n",
              "      <td>168</td>\n",
              "      <td>24</td>\n",
              "      <td>4</td>\n",
              "      <td>Diseases of the eye and adnexa</td>\n",
              "      <td>Jul</td>\n",
              "      <td>Thursday</td>\n",
              "      <td>Summer</td>\n",
              "      <td>High School</td>\n",
              "      <td>Disciplined</td>\n",
              "      <td>Drinker</td>\n",
              "      <td>Smoker</td>\n",
              "      <td>55.80</td>\n",
              "      <td>Expensive</td>\n",
              "    </tr>\n",
              "    <tr>\n",
              "      <th>4</th>\n",
              "      <td>11</td>\n",
              "      <td>23</td>\n",
              "      <td>7</td>\n",
              "      <td>5</td>\n",
              "      <td>1</td>\n",
              "      <td>289</td>\n",
              "      <td>36</td>\n",
              "      <td>13</td>\n",
              "      <td>33</td>\n",
              "      <td>239.554</td>\n",
              "      <td>97</td>\n",
              "      <td>0</td>\n",
              "      <td>1</td>\n",
              "      <td>2</td>\n",
              "      <td>1</td>\n",
              "      <td>0</td>\n",
              "      <td>1</td>\n",
              "      <td>90</td>\n",
              "      <td>172</td>\n",
              "      <td>30</td>\n",
              "      <td>2</td>\n",
              "      <td>Medical consultation</td>\n",
              "      <td>Jul</td>\n",
              "      <td>Thursday</td>\n",
              "      <td>Summer</td>\n",
              "      <td>High School</td>\n",
              "      <td>Disciplined</td>\n",
              "      <td>Drinker</td>\n",
              "      <td>Nonsmoker</td>\n",
              "      <td>8.03</td>\n",
              "      <td>Affordable</td>\n",
              "    </tr>\n",
              "  </tbody>\n",
              "</table>\n",
              "</div>"
            ],
            "text/plain": [
              "   ID Reason for absence  ... Travel Expense per km Travel Cost Category\n",
              "0  11                 26  ...                  8.03           Affordable\n",
              "1  36                 26  ...                  9.08           Affordable\n",
              "2   3                 23  ...                  3.51                Cheap\n",
              "3   7                  7  ...                 55.80            Expensive\n",
              "4  11                 23  ...                  8.03           Affordable\n",
              "\n",
              "[5 rows x 31 columns]"
            ]
          },
          "metadata": {
            "tags": []
          },
          "execution_count": 165
        }
      ]
    },
    {
      "cell_type": "markdown",
      "metadata": {
        "id": "8GXN_QrTQO5d"
      },
      "source": [
        "A new feature **Joining_age** is created which will provide information about the employee's joining status. Employee having high value of joining age will definitely have good working experience and also pose a chance that particular individual will have higher educational qualifications than others."
      ]
    },
    {
      "cell_type": "code",
      "metadata": {
        "id": "d5epyIEpGNl2"
      },
      "source": [
        "absent['Joining_Age'] = absent['Age'] - absent['Service time']"
      ],
      "execution_count": null,
      "outputs": []
    },
    {
      "cell_type": "code",
      "metadata": {
        "colab": {
          "base_uri": "https://localhost:8080/",
          "height": 316
        },
        "id": "J1YWYmOYLPHU",
        "outputId": "c2592445-1ae2-41d9-88ef-5cf8dbd30f73"
      },
      "source": [
        "absent.head()"
      ],
      "execution_count": null,
      "outputs": [
        {
          "output_type": "execute_result",
          "data": {
            "text/html": [
              "<div>\n",
              "<style scoped>\n",
              "    .dataframe tbody tr th:only-of-type {\n",
              "        vertical-align: middle;\n",
              "    }\n",
              "\n",
              "    .dataframe tbody tr th {\n",
              "        vertical-align: top;\n",
              "    }\n",
              "\n",
              "    .dataframe thead th {\n",
              "        text-align: right;\n",
              "    }\n",
              "</style>\n",
              "<table border=\"1\" class=\"dataframe\">\n",
              "  <thead>\n",
              "    <tr style=\"text-align: right;\">\n",
              "      <th></th>\n",
              "      <th>ID</th>\n",
              "      <th>Reason for absence</th>\n",
              "      <th>Month of absence</th>\n",
              "      <th>Day of the week</th>\n",
              "      <th>Seasons</th>\n",
              "      <th>Transportation expense</th>\n",
              "      <th>Distance from Residence to Work</th>\n",
              "      <th>Service time</th>\n",
              "      <th>Age</th>\n",
              "      <th>Work load Average/day</th>\n",
              "      <th>Hit target</th>\n",
              "      <th>Disciplinary failure</th>\n",
              "      <th>Education</th>\n",
              "      <th>Son</th>\n",
              "      <th>Social drinker</th>\n",
              "      <th>Social smoker</th>\n",
              "      <th>Pet</th>\n",
              "      <th>Weight</th>\n",
              "      <th>Height</th>\n",
              "      <th>Body mass index</th>\n",
              "      <th>Absenteeism time in hours</th>\n",
              "      <th>Reason_Justified</th>\n",
              "      <th>Month_Name</th>\n",
              "      <th>Day_Name</th>\n",
              "      <th>Season_Name</th>\n",
              "      <th>Education_Details</th>\n",
              "      <th>Disciplinary_Status</th>\n",
              "      <th>Drinking_Status</th>\n",
              "      <th>Smoking_Status</th>\n",
              "      <th>Travel Expense per km</th>\n",
              "      <th>Travel Cost Category</th>\n",
              "      <th>Joining_Age</th>\n",
              "    </tr>\n",
              "  </thead>\n",
              "  <tbody>\n",
              "    <tr>\n",
              "      <th>0</th>\n",
              "      <td>11</td>\n",
              "      <td>26</td>\n",
              "      <td>7</td>\n",
              "      <td>3</td>\n",
              "      <td>1</td>\n",
              "      <td>289</td>\n",
              "      <td>36</td>\n",
              "      <td>13</td>\n",
              "      <td>33</td>\n",
              "      <td>239.554</td>\n",
              "      <td>97</td>\n",
              "      <td>0</td>\n",
              "      <td>1</td>\n",
              "      <td>2</td>\n",
              "      <td>1</td>\n",
              "      <td>0</td>\n",
              "      <td>1</td>\n",
              "      <td>90</td>\n",
              "      <td>172</td>\n",
              "      <td>30</td>\n",
              "      <td>4</td>\n",
              "      <td>Unjustified absence</td>\n",
              "      <td>Jul</td>\n",
              "      <td>Tuesday</td>\n",
              "      <td>Summer</td>\n",
              "      <td>High School</td>\n",
              "      <td>Disciplined</td>\n",
              "      <td>Drinker</td>\n",
              "      <td>Nonsmoker</td>\n",
              "      <td>8.03</td>\n",
              "      <td>Affordable</td>\n",
              "      <td>20</td>\n",
              "    </tr>\n",
              "    <tr>\n",
              "      <th>1</th>\n",
              "      <td>36</td>\n",
              "      <td>26</td>\n",
              "      <td>7</td>\n",
              "      <td>3</td>\n",
              "      <td>1</td>\n",
              "      <td>118</td>\n",
              "      <td>13</td>\n",
              "      <td>18</td>\n",
              "      <td>50</td>\n",
              "      <td>239.554</td>\n",
              "      <td>97</td>\n",
              "      <td>1</td>\n",
              "      <td>1</td>\n",
              "      <td>1</td>\n",
              "      <td>1</td>\n",
              "      <td>0</td>\n",
              "      <td>0</td>\n",
              "      <td>98</td>\n",
              "      <td>178</td>\n",
              "      <td>31</td>\n",
              "      <td>8</td>\n",
              "      <td>Unjustified absence</td>\n",
              "      <td>Jul</td>\n",
              "      <td>Tuesday</td>\n",
              "      <td>Summer</td>\n",
              "      <td>High School</td>\n",
              "      <td>Indisciplined</td>\n",
              "      <td>Drinker</td>\n",
              "      <td>Nonsmoker</td>\n",
              "      <td>9.08</td>\n",
              "      <td>Affordable</td>\n",
              "      <td>32</td>\n",
              "    </tr>\n",
              "    <tr>\n",
              "      <th>2</th>\n",
              "      <td>3</td>\n",
              "      <td>23</td>\n",
              "      <td>7</td>\n",
              "      <td>4</td>\n",
              "      <td>1</td>\n",
              "      <td>179</td>\n",
              "      <td>51</td>\n",
              "      <td>18</td>\n",
              "      <td>38</td>\n",
              "      <td>239.554</td>\n",
              "      <td>97</td>\n",
              "      <td>0</td>\n",
              "      <td>1</td>\n",
              "      <td>0</td>\n",
              "      <td>1</td>\n",
              "      <td>0</td>\n",
              "      <td>0</td>\n",
              "      <td>89</td>\n",
              "      <td>170</td>\n",
              "      <td>31</td>\n",
              "      <td>2</td>\n",
              "      <td>Medical consultation</td>\n",
              "      <td>Jul</td>\n",
              "      <td>Wednesday</td>\n",
              "      <td>Summer</td>\n",
              "      <td>High School</td>\n",
              "      <td>Disciplined</td>\n",
              "      <td>Drinker</td>\n",
              "      <td>Nonsmoker</td>\n",
              "      <td>3.51</td>\n",
              "      <td>Cheap</td>\n",
              "      <td>20</td>\n",
              "    </tr>\n",
              "    <tr>\n",
              "      <th>3</th>\n",
              "      <td>7</td>\n",
              "      <td>7</td>\n",
              "      <td>7</td>\n",
              "      <td>5</td>\n",
              "      <td>1</td>\n",
              "      <td>279</td>\n",
              "      <td>5</td>\n",
              "      <td>14</td>\n",
              "      <td>39</td>\n",
              "      <td>239.554</td>\n",
              "      <td>97</td>\n",
              "      <td>0</td>\n",
              "      <td>1</td>\n",
              "      <td>2</td>\n",
              "      <td>1</td>\n",
              "      <td>1</td>\n",
              "      <td>0</td>\n",
              "      <td>68</td>\n",
              "      <td>168</td>\n",
              "      <td>24</td>\n",
              "      <td>4</td>\n",
              "      <td>Diseases of the eye and adnexa</td>\n",
              "      <td>Jul</td>\n",
              "      <td>Thursday</td>\n",
              "      <td>Summer</td>\n",
              "      <td>High School</td>\n",
              "      <td>Disciplined</td>\n",
              "      <td>Drinker</td>\n",
              "      <td>Smoker</td>\n",
              "      <td>55.80</td>\n",
              "      <td>Expensive</td>\n",
              "      <td>25</td>\n",
              "    </tr>\n",
              "    <tr>\n",
              "      <th>4</th>\n",
              "      <td>11</td>\n",
              "      <td>23</td>\n",
              "      <td>7</td>\n",
              "      <td>5</td>\n",
              "      <td>1</td>\n",
              "      <td>289</td>\n",
              "      <td>36</td>\n",
              "      <td>13</td>\n",
              "      <td>33</td>\n",
              "      <td>239.554</td>\n",
              "      <td>97</td>\n",
              "      <td>0</td>\n",
              "      <td>1</td>\n",
              "      <td>2</td>\n",
              "      <td>1</td>\n",
              "      <td>0</td>\n",
              "      <td>1</td>\n",
              "      <td>90</td>\n",
              "      <td>172</td>\n",
              "      <td>30</td>\n",
              "      <td>2</td>\n",
              "      <td>Medical consultation</td>\n",
              "      <td>Jul</td>\n",
              "      <td>Thursday</td>\n",
              "      <td>Summer</td>\n",
              "      <td>High School</td>\n",
              "      <td>Disciplined</td>\n",
              "      <td>Drinker</td>\n",
              "      <td>Nonsmoker</td>\n",
              "      <td>8.03</td>\n",
              "      <td>Affordable</td>\n",
              "      <td>20</td>\n",
              "    </tr>\n",
              "  </tbody>\n",
              "</table>\n",
              "</div>"
            ],
            "text/plain": [
              "   ID Reason for absence  ... Travel Cost Category Joining_Age\n",
              "0  11                 26  ...           Affordable          20\n",
              "1  36                 26  ...           Affordable          32\n",
              "2   3                 23  ...                Cheap          20\n",
              "3   7                  7  ...            Expensive          25\n",
              "4  11                 23  ...           Affordable          20\n",
              "\n",
              "[5 rows x 32 columns]"
            ]
          },
          "metadata": {
            "tags": []
          },
          "execution_count": 167
        }
      ]
    },
    {
      "cell_type": "markdown",
      "metadata": {
        "id": "m3pBqshWQqvh"
      },
      "source": [
        "Age feature is classified into three categories as young, mid-age and old and further analysis could be carried out for each age category and important parameters affecting each age category can also be obtained."
      ]
    },
    {
      "cell_type": "code",
      "metadata": {
        "id": "H-Lgo-MbR1Wf"
      },
      "source": [
        "absent.loc[absent['Age']<35, 'Age_Group'] = 'Young Employee'\r\n",
        "absent.loc[absent['Age']>45, 'Age_Group'] = 'Old Employee'\r\n",
        "absent.loc[(absent['Age']>=35) & (absent['Age']<=45), 'Age_Group'] = 'Mid-Age Employee'"
      ],
      "execution_count": null,
      "outputs": []
    },
    {
      "cell_type": "code",
      "metadata": {
        "colab": {
          "base_uri": "https://localhost:8080/",
          "height": 350
        },
        "id": "MpBkzTIsR-8P",
        "outputId": "35b691d8-48de-4600-900c-8c9f29ba782a"
      },
      "source": [
        "absent.head()"
      ],
      "execution_count": null,
      "outputs": [
        {
          "output_type": "execute_result",
          "data": {
            "text/html": [
              "<div>\n",
              "<style scoped>\n",
              "    .dataframe tbody tr th:only-of-type {\n",
              "        vertical-align: middle;\n",
              "    }\n",
              "\n",
              "    .dataframe tbody tr th {\n",
              "        vertical-align: top;\n",
              "    }\n",
              "\n",
              "    .dataframe thead th {\n",
              "        text-align: right;\n",
              "    }\n",
              "</style>\n",
              "<table border=\"1\" class=\"dataframe\">\n",
              "  <thead>\n",
              "    <tr style=\"text-align: right;\">\n",
              "      <th></th>\n",
              "      <th>ID</th>\n",
              "      <th>Reason for absence</th>\n",
              "      <th>Month of absence</th>\n",
              "      <th>Day of the week</th>\n",
              "      <th>Seasons</th>\n",
              "      <th>Transportation expense</th>\n",
              "      <th>Distance from Residence to Work</th>\n",
              "      <th>Service time</th>\n",
              "      <th>Age</th>\n",
              "      <th>Work load Average/day</th>\n",
              "      <th>Hit target</th>\n",
              "      <th>Disciplinary failure</th>\n",
              "      <th>Education</th>\n",
              "      <th>Son</th>\n",
              "      <th>Social drinker</th>\n",
              "      <th>Social smoker</th>\n",
              "      <th>Pet</th>\n",
              "      <th>Weight</th>\n",
              "      <th>Height</th>\n",
              "      <th>Body mass index</th>\n",
              "      <th>Absenteeism time in hours</th>\n",
              "      <th>Reason_Justified</th>\n",
              "      <th>Month_Name</th>\n",
              "      <th>Day_Name</th>\n",
              "      <th>Season_Name</th>\n",
              "      <th>Education_Details</th>\n",
              "      <th>Disciplinary_Status</th>\n",
              "      <th>Drinking_Status</th>\n",
              "      <th>Smoking_Status</th>\n",
              "      <th>Travel Expense per km</th>\n",
              "      <th>Travel Cost Category</th>\n",
              "      <th>Joining_Age</th>\n",
              "      <th>Age_Group</th>\n",
              "    </tr>\n",
              "  </thead>\n",
              "  <tbody>\n",
              "    <tr>\n",
              "      <th>0</th>\n",
              "      <td>11</td>\n",
              "      <td>26</td>\n",
              "      <td>7</td>\n",
              "      <td>3</td>\n",
              "      <td>1</td>\n",
              "      <td>289</td>\n",
              "      <td>36</td>\n",
              "      <td>13</td>\n",
              "      <td>33</td>\n",
              "      <td>239.554</td>\n",
              "      <td>97</td>\n",
              "      <td>0</td>\n",
              "      <td>1</td>\n",
              "      <td>2</td>\n",
              "      <td>1</td>\n",
              "      <td>0</td>\n",
              "      <td>1</td>\n",
              "      <td>90</td>\n",
              "      <td>172</td>\n",
              "      <td>30</td>\n",
              "      <td>4</td>\n",
              "      <td>Unjustified absence</td>\n",
              "      <td>Jul</td>\n",
              "      <td>Tuesday</td>\n",
              "      <td>Summer</td>\n",
              "      <td>High School</td>\n",
              "      <td>Disciplined</td>\n",
              "      <td>Drinker</td>\n",
              "      <td>Nonsmoker</td>\n",
              "      <td>8.03</td>\n",
              "      <td>Affordable</td>\n",
              "      <td>20</td>\n",
              "      <td>Young Employee</td>\n",
              "    </tr>\n",
              "    <tr>\n",
              "      <th>1</th>\n",
              "      <td>36</td>\n",
              "      <td>26</td>\n",
              "      <td>7</td>\n",
              "      <td>3</td>\n",
              "      <td>1</td>\n",
              "      <td>118</td>\n",
              "      <td>13</td>\n",
              "      <td>18</td>\n",
              "      <td>50</td>\n",
              "      <td>239.554</td>\n",
              "      <td>97</td>\n",
              "      <td>1</td>\n",
              "      <td>1</td>\n",
              "      <td>1</td>\n",
              "      <td>1</td>\n",
              "      <td>0</td>\n",
              "      <td>0</td>\n",
              "      <td>98</td>\n",
              "      <td>178</td>\n",
              "      <td>31</td>\n",
              "      <td>8</td>\n",
              "      <td>Unjustified absence</td>\n",
              "      <td>Jul</td>\n",
              "      <td>Tuesday</td>\n",
              "      <td>Summer</td>\n",
              "      <td>High School</td>\n",
              "      <td>Indisciplined</td>\n",
              "      <td>Drinker</td>\n",
              "      <td>Nonsmoker</td>\n",
              "      <td>9.08</td>\n",
              "      <td>Affordable</td>\n",
              "      <td>32</td>\n",
              "      <td>Old Employee</td>\n",
              "    </tr>\n",
              "    <tr>\n",
              "      <th>2</th>\n",
              "      <td>3</td>\n",
              "      <td>23</td>\n",
              "      <td>7</td>\n",
              "      <td>4</td>\n",
              "      <td>1</td>\n",
              "      <td>179</td>\n",
              "      <td>51</td>\n",
              "      <td>18</td>\n",
              "      <td>38</td>\n",
              "      <td>239.554</td>\n",
              "      <td>97</td>\n",
              "      <td>0</td>\n",
              "      <td>1</td>\n",
              "      <td>0</td>\n",
              "      <td>1</td>\n",
              "      <td>0</td>\n",
              "      <td>0</td>\n",
              "      <td>89</td>\n",
              "      <td>170</td>\n",
              "      <td>31</td>\n",
              "      <td>2</td>\n",
              "      <td>Medical consultation</td>\n",
              "      <td>Jul</td>\n",
              "      <td>Wednesday</td>\n",
              "      <td>Summer</td>\n",
              "      <td>High School</td>\n",
              "      <td>Disciplined</td>\n",
              "      <td>Drinker</td>\n",
              "      <td>Nonsmoker</td>\n",
              "      <td>3.51</td>\n",
              "      <td>Cheap</td>\n",
              "      <td>20</td>\n",
              "      <td>Mid-Age Employee</td>\n",
              "    </tr>\n",
              "    <tr>\n",
              "      <th>3</th>\n",
              "      <td>7</td>\n",
              "      <td>7</td>\n",
              "      <td>7</td>\n",
              "      <td>5</td>\n",
              "      <td>1</td>\n",
              "      <td>279</td>\n",
              "      <td>5</td>\n",
              "      <td>14</td>\n",
              "      <td>39</td>\n",
              "      <td>239.554</td>\n",
              "      <td>97</td>\n",
              "      <td>0</td>\n",
              "      <td>1</td>\n",
              "      <td>2</td>\n",
              "      <td>1</td>\n",
              "      <td>1</td>\n",
              "      <td>0</td>\n",
              "      <td>68</td>\n",
              "      <td>168</td>\n",
              "      <td>24</td>\n",
              "      <td>4</td>\n",
              "      <td>Diseases of the eye and adnexa</td>\n",
              "      <td>Jul</td>\n",
              "      <td>Thursday</td>\n",
              "      <td>Summer</td>\n",
              "      <td>High School</td>\n",
              "      <td>Disciplined</td>\n",
              "      <td>Drinker</td>\n",
              "      <td>Smoker</td>\n",
              "      <td>55.80</td>\n",
              "      <td>Expensive</td>\n",
              "      <td>25</td>\n",
              "      <td>Mid-Age Employee</td>\n",
              "    </tr>\n",
              "    <tr>\n",
              "      <th>4</th>\n",
              "      <td>11</td>\n",
              "      <td>23</td>\n",
              "      <td>7</td>\n",
              "      <td>5</td>\n",
              "      <td>1</td>\n",
              "      <td>289</td>\n",
              "      <td>36</td>\n",
              "      <td>13</td>\n",
              "      <td>33</td>\n",
              "      <td>239.554</td>\n",
              "      <td>97</td>\n",
              "      <td>0</td>\n",
              "      <td>1</td>\n",
              "      <td>2</td>\n",
              "      <td>1</td>\n",
              "      <td>0</td>\n",
              "      <td>1</td>\n",
              "      <td>90</td>\n",
              "      <td>172</td>\n",
              "      <td>30</td>\n",
              "      <td>2</td>\n",
              "      <td>Medical consultation</td>\n",
              "      <td>Jul</td>\n",
              "      <td>Thursday</td>\n",
              "      <td>Summer</td>\n",
              "      <td>High School</td>\n",
              "      <td>Disciplined</td>\n",
              "      <td>Drinker</td>\n",
              "      <td>Nonsmoker</td>\n",
              "      <td>8.03</td>\n",
              "      <td>Affordable</td>\n",
              "      <td>20</td>\n",
              "      <td>Young Employee</td>\n",
              "    </tr>\n",
              "  </tbody>\n",
              "</table>\n",
              "</div>"
            ],
            "text/plain": [
              "   ID Reason for absence  ... Joining_Age         Age_Group\n",
              "0  11                 26  ...          20    Young Employee\n",
              "1  36                 26  ...          32      Old Employee\n",
              "2   3                 23  ...          20  Mid-Age Employee\n",
              "3   7                  7  ...          25  Mid-Age Employee\n",
              "4  11                 23  ...          20    Young Employee\n",
              "\n",
              "[5 rows x 33 columns]"
            ]
          },
          "metadata": {
            "tags": []
          },
          "execution_count": 169
        }
      ]
    },
    {
      "cell_type": "markdown",
      "metadata": {
        "id": "FaN1P0pVMqkc"
      },
      "source": [
        "Body mass index feature is specified for each individual which is used to create a categorical feature **BMI_Status** with 3 categories i.e Normal, Overweight and Obese. This categorical feature will further provide efficient way to perform EDA on the data."
      ]
    },
    {
      "cell_type": "code",
      "metadata": {
        "id": "vF6dr-lsK3HX"
      },
      "source": [
        "absent.loc[absent['Body mass index']<18.5, 'BMI_Status'] = 'Underweight'\r\n",
        "absent.loc[(absent['Body mass index']>=18.5) & (absent['Body mass index']<24.9), 'BMI_Status'] = 'Normal'\r\n",
        "absent.loc[(absent['Body mass index']>=24.9) & (absent['Body mass index']<29.9), 'BMI_Status'] = 'Overweight'\r\n",
        "absent.loc[absent['Body mass index']>29.9, 'BMI_Status'] = 'Obese'"
      ],
      "execution_count": null,
      "outputs": []
    },
    {
      "cell_type": "code",
      "metadata": {
        "colab": {
          "base_uri": "https://localhost:8080/",
          "height": 350
        },
        "id": "sFFl8pPDMli9",
        "outputId": "6936f86c-2dfc-458f-801e-2eef4e2cc252"
      },
      "source": [
        "absent.head()"
      ],
      "execution_count": null,
      "outputs": [
        {
          "output_type": "execute_result",
          "data": {
            "text/html": [
              "<div>\n",
              "<style scoped>\n",
              "    .dataframe tbody tr th:only-of-type {\n",
              "        vertical-align: middle;\n",
              "    }\n",
              "\n",
              "    .dataframe tbody tr th {\n",
              "        vertical-align: top;\n",
              "    }\n",
              "\n",
              "    .dataframe thead th {\n",
              "        text-align: right;\n",
              "    }\n",
              "</style>\n",
              "<table border=\"1\" class=\"dataframe\">\n",
              "  <thead>\n",
              "    <tr style=\"text-align: right;\">\n",
              "      <th></th>\n",
              "      <th>ID</th>\n",
              "      <th>Reason for absence</th>\n",
              "      <th>Month of absence</th>\n",
              "      <th>Day of the week</th>\n",
              "      <th>Seasons</th>\n",
              "      <th>Transportation expense</th>\n",
              "      <th>Distance from Residence to Work</th>\n",
              "      <th>Service time</th>\n",
              "      <th>Age</th>\n",
              "      <th>Work load Average/day</th>\n",
              "      <th>Hit target</th>\n",
              "      <th>Disciplinary failure</th>\n",
              "      <th>Education</th>\n",
              "      <th>Son</th>\n",
              "      <th>Social drinker</th>\n",
              "      <th>Social smoker</th>\n",
              "      <th>Pet</th>\n",
              "      <th>Weight</th>\n",
              "      <th>Height</th>\n",
              "      <th>Body mass index</th>\n",
              "      <th>Absenteeism time in hours</th>\n",
              "      <th>Reason_Justified</th>\n",
              "      <th>Month_Name</th>\n",
              "      <th>Day_Name</th>\n",
              "      <th>Season_Name</th>\n",
              "      <th>Education_Details</th>\n",
              "      <th>Disciplinary_Status</th>\n",
              "      <th>Drinking_Status</th>\n",
              "      <th>Smoking_Status</th>\n",
              "      <th>Travel Expense per km</th>\n",
              "      <th>Travel Cost Category</th>\n",
              "      <th>Joining_Age</th>\n",
              "      <th>Age_Group</th>\n",
              "      <th>BMI_Status</th>\n",
              "    </tr>\n",
              "  </thead>\n",
              "  <tbody>\n",
              "    <tr>\n",
              "      <th>0</th>\n",
              "      <td>11</td>\n",
              "      <td>26</td>\n",
              "      <td>7</td>\n",
              "      <td>3</td>\n",
              "      <td>1</td>\n",
              "      <td>289</td>\n",
              "      <td>36</td>\n",
              "      <td>13</td>\n",
              "      <td>33</td>\n",
              "      <td>239.554</td>\n",
              "      <td>97</td>\n",
              "      <td>0</td>\n",
              "      <td>1</td>\n",
              "      <td>2</td>\n",
              "      <td>1</td>\n",
              "      <td>0</td>\n",
              "      <td>1</td>\n",
              "      <td>90</td>\n",
              "      <td>172</td>\n",
              "      <td>30</td>\n",
              "      <td>4</td>\n",
              "      <td>Unjustified absence</td>\n",
              "      <td>Jul</td>\n",
              "      <td>Tuesday</td>\n",
              "      <td>Summer</td>\n",
              "      <td>High School</td>\n",
              "      <td>Disciplined</td>\n",
              "      <td>Drinker</td>\n",
              "      <td>Nonsmoker</td>\n",
              "      <td>8.03</td>\n",
              "      <td>Affordable</td>\n",
              "      <td>20</td>\n",
              "      <td>Young Employee</td>\n",
              "      <td>Obese</td>\n",
              "    </tr>\n",
              "    <tr>\n",
              "      <th>1</th>\n",
              "      <td>36</td>\n",
              "      <td>26</td>\n",
              "      <td>7</td>\n",
              "      <td>3</td>\n",
              "      <td>1</td>\n",
              "      <td>118</td>\n",
              "      <td>13</td>\n",
              "      <td>18</td>\n",
              "      <td>50</td>\n",
              "      <td>239.554</td>\n",
              "      <td>97</td>\n",
              "      <td>1</td>\n",
              "      <td>1</td>\n",
              "      <td>1</td>\n",
              "      <td>1</td>\n",
              "      <td>0</td>\n",
              "      <td>0</td>\n",
              "      <td>98</td>\n",
              "      <td>178</td>\n",
              "      <td>31</td>\n",
              "      <td>8</td>\n",
              "      <td>Unjustified absence</td>\n",
              "      <td>Jul</td>\n",
              "      <td>Tuesday</td>\n",
              "      <td>Summer</td>\n",
              "      <td>High School</td>\n",
              "      <td>Indisciplined</td>\n",
              "      <td>Drinker</td>\n",
              "      <td>Nonsmoker</td>\n",
              "      <td>9.08</td>\n",
              "      <td>Affordable</td>\n",
              "      <td>32</td>\n",
              "      <td>Old Employee</td>\n",
              "      <td>Obese</td>\n",
              "    </tr>\n",
              "    <tr>\n",
              "      <th>2</th>\n",
              "      <td>3</td>\n",
              "      <td>23</td>\n",
              "      <td>7</td>\n",
              "      <td>4</td>\n",
              "      <td>1</td>\n",
              "      <td>179</td>\n",
              "      <td>51</td>\n",
              "      <td>18</td>\n",
              "      <td>38</td>\n",
              "      <td>239.554</td>\n",
              "      <td>97</td>\n",
              "      <td>0</td>\n",
              "      <td>1</td>\n",
              "      <td>0</td>\n",
              "      <td>1</td>\n",
              "      <td>0</td>\n",
              "      <td>0</td>\n",
              "      <td>89</td>\n",
              "      <td>170</td>\n",
              "      <td>31</td>\n",
              "      <td>2</td>\n",
              "      <td>Medical consultation</td>\n",
              "      <td>Jul</td>\n",
              "      <td>Wednesday</td>\n",
              "      <td>Summer</td>\n",
              "      <td>High School</td>\n",
              "      <td>Disciplined</td>\n",
              "      <td>Drinker</td>\n",
              "      <td>Nonsmoker</td>\n",
              "      <td>3.51</td>\n",
              "      <td>Cheap</td>\n",
              "      <td>20</td>\n",
              "      <td>Mid-Age Employee</td>\n",
              "      <td>Obese</td>\n",
              "    </tr>\n",
              "    <tr>\n",
              "      <th>3</th>\n",
              "      <td>7</td>\n",
              "      <td>7</td>\n",
              "      <td>7</td>\n",
              "      <td>5</td>\n",
              "      <td>1</td>\n",
              "      <td>279</td>\n",
              "      <td>5</td>\n",
              "      <td>14</td>\n",
              "      <td>39</td>\n",
              "      <td>239.554</td>\n",
              "      <td>97</td>\n",
              "      <td>0</td>\n",
              "      <td>1</td>\n",
              "      <td>2</td>\n",
              "      <td>1</td>\n",
              "      <td>1</td>\n",
              "      <td>0</td>\n",
              "      <td>68</td>\n",
              "      <td>168</td>\n",
              "      <td>24</td>\n",
              "      <td>4</td>\n",
              "      <td>Diseases of the eye and adnexa</td>\n",
              "      <td>Jul</td>\n",
              "      <td>Thursday</td>\n",
              "      <td>Summer</td>\n",
              "      <td>High School</td>\n",
              "      <td>Disciplined</td>\n",
              "      <td>Drinker</td>\n",
              "      <td>Smoker</td>\n",
              "      <td>55.80</td>\n",
              "      <td>Expensive</td>\n",
              "      <td>25</td>\n",
              "      <td>Mid-Age Employee</td>\n",
              "      <td>Normal</td>\n",
              "    </tr>\n",
              "    <tr>\n",
              "      <th>4</th>\n",
              "      <td>11</td>\n",
              "      <td>23</td>\n",
              "      <td>7</td>\n",
              "      <td>5</td>\n",
              "      <td>1</td>\n",
              "      <td>289</td>\n",
              "      <td>36</td>\n",
              "      <td>13</td>\n",
              "      <td>33</td>\n",
              "      <td>239.554</td>\n",
              "      <td>97</td>\n",
              "      <td>0</td>\n",
              "      <td>1</td>\n",
              "      <td>2</td>\n",
              "      <td>1</td>\n",
              "      <td>0</td>\n",
              "      <td>1</td>\n",
              "      <td>90</td>\n",
              "      <td>172</td>\n",
              "      <td>30</td>\n",
              "      <td>2</td>\n",
              "      <td>Medical consultation</td>\n",
              "      <td>Jul</td>\n",
              "      <td>Thursday</td>\n",
              "      <td>Summer</td>\n",
              "      <td>High School</td>\n",
              "      <td>Disciplined</td>\n",
              "      <td>Drinker</td>\n",
              "      <td>Nonsmoker</td>\n",
              "      <td>8.03</td>\n",
              "      <td>Affordable</td>\n",
              "      <td>20</td>\n",
              "      <td>Young Employee</td>\n",
              "      <td>Obese</td>\n",
              "    </tr>\n",
              "  </tbody>\n",
              "</table>\n",
              "</div>"
            ],
            "text/plain": [
              "   ID Reason for absence  ...         Age_Group BMI_Status\n",
              "0  11                 26  ...    Young Employee      Obese\n",
              "1  36                 26  ...      Old Employee      Obese\n",
              "2   3                 23  ...  Mid-Age Employee      Obese\n",
              "3   7                  7  ...  Mid-Age Employee     Normal\n",
              "4  11                 23  ...    Young Employee      Obese\n",
              "\n",
              "[5 rows x 34 columns]"
            ]
          },
          "metadata": {
            "tags": []
          },
          "execution_count": 171
        }
      ]
    },
    {
      "cell_type": "markdown",
      "metadata": {
        "id": "eVwVPoeQQ-gb"
      },
      "source": [
        "# **Output CSV file for performing Exploratory Data Analysis**"
      ]
    },
    {
      "cell_type": "code",
      "metadata": {
        "id": "Fg9bVZRWVzEs"
      },
      "source": [
        "absent.to_csv('/content/drive/MyDrive/Absent_Preprocessed.csv',index=False)"
      ],
      "execution_count": null,
      "outputs": []
    }
  ]
}